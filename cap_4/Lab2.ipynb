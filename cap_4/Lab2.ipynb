{
 "cells": [
  {
   "cell_type": "markdown",
   "metadata": {},
   "source": [
    "<!-- Projeto Desenvolvido na Data Science Academy - www.datascienceacademy.com.br -->\n",
    "# <font color='blue'>Data Science Academy</font>\n",
    "## <font color='blue'>Matemática e Estatística Aplicada Para Data Science, Machine Learning e IA</font>\n",
    "## <font color='blue'>Lab 2</font>\n",
    "## <font color='blue'>Trabalhando com Funções e Logaritmos em Python</font>"
   ]
  },
  {
   "cell_type": "markdown",
   "metadata": {},
   "source": [
    "### Instalando e Carregando Pacotes"
   ]
  },
  {
   "cell_type": "code",
   "execution_count": 1,
   "metadata": {},
   "outputs": [],
   "source": [
    "# Para atualizar um pacote, execute o comando abaixo no terminal ou prompt de comando:\n",
    "# pip install -U nome_pacote\n",
    "\n",
    "# Para instalar a versão exata de um pacote, execute o comando abaixo no terminal ou prompt de comando:\n",
    "# !pip install nome_pacote==versão_desejada\n",
    "\n",
    "# Depois de instalar ou atualizar o pacote, reinicie o jupyter notebook.\n",
    "\n",
    "# Instala o pacote watermark. \n",
    "# Esse pacote é usado para gravar as versões de outros pacotes usados neste jupyter notebook.\n",
    "!pip install -q -U watermark"
   ]
  },
  {
   "cell_type": "code",
   "execution_count": 2,
   "metadata": {},
   "outputs": [
    {
     "name": "stdout",
     "output_type": "stream",
     "text": [
      "Author: Data Science Academy\n",
      "\n"
     ]
    }
   ],
   "source": [
    "# Versões dos pacotes usados neste jupyter notebook\n",
    "%reload_ext watermark\n",
    "%watermark -a \"Data Science Academy\" --iversions"
   ]
  },
  {
   "cell_type": "markdown",
   "metadata": {},
   "source": [
    "## Definindo Funções na Matemática"
   ]
  },
  {
   "cell_type": "markdown",
   "metadata": {},
   "source": [
    "No contexto da matemática, uma função estabelece uma relação específica entre dois conjuntos de elementos, conhecidos como domínio e contradomínio. Uma função associa a cada elemento do domínio exatamente um elemento do contradomínio. Esta relação é frequentemente descrita como um \"mapeamento\" dos elementos de um conjunto para outro.\n",
    "\n",
    "Para entender melhor, considere o domínio como um conjunto de entradas possíveis e o contradomínio como um conjunto de saídas potenciais. A função atua como uma regra que determina como cada entrada é transformada em uma saída. \n",
    "\n",
    "<img src=\"imagens/imagem1.png\" width=\"500\" height=\"300\">"
   ]
  },
  {
   "cell_type": "markdown",
   "metadata": {},
   "source": [
    "## Funções - Domínio, Imagem, Contradomínio"
   ]
  },
  {
   "cell_type": "markdown",
   "metadata": {},
   "source": [
    "Para entender uma função completamente, é importante compreender três termos associados: domínio, imagem e contradomínio.\n",
    "\n",
    "**Domínio**: O domínio de uma função é o conjunto de todos os possíveis valores de entrada para os quais a função está definida. Em outras palavras, é o conjunto de todos os valores que você pode inserir na função. Por exemplo, na função f(x) = sqrt(x), o domínio é o conjunto de todos os números reais não negativos, pois não podemos calcular a raiz quadrada de um número negativo (no conjunto dos números reais).\n",
    "\n",
    "**Imagem**: A imagem de uma função refere-se ao conjunto de todos os valores de saída que a função pode produzir. Quando falamos da imagem, estamos nos referindo especificamente aos resultados que realmente ocorrem, dada a função e seu domínio. Por exemplo, na função f(x) = x ^ 2, a imagem é o conjunto de todos os números reais não negativos, porque elevar ao quadrado qualquer número real sempre resulta em um valor não negativo.\n",
    "\n",
    "**Contradomínio**: O contradomínio é o conjunto de todos os possíveis valores de saída que a função poderia teoricamente produzir, independentemente de eles realmente ocorrerem ou não. É o conjunto de referência que inclui todas as saídas potenciais. Em muitos casos, o contradomínio é escolhido para ser um conjunto maior ou mais geral que a imagem. Por exemplo, para a função f(x) = x ^ 2, podemos definir o contradomínio como todos os números reais, embora a imagem seja apenas os números reais não negativos."
   ]
  },
  {
   "cell_type": "markdown",
   "metadata": {},
   "source": [
    "## Funções na Matemática x Funções em Programação de Computadores\n"
   ]
  },
  {
   "cell_type": "markdown",
   "metadata": {},
   "source": [
    "A compreensão da diferença entre funções na matemática e funções em programação de computadores é essencial pois, apesar de compartilharem algumas semelhanças conceituais, elas têm propósitos e características distintos.\n",
    "\n",
    "**Funções na Matemática**:\n",
    "\n",
    "Na matemática, uma função é uma relação entre dois conjuntos que associa a cada elemento do primeiro conjunto (domínio) exatamente um elemento do segundo conjunto (contradomínio). Não há ambiguidade ou variação; cada entrada tem uma e apenas uma saída correspondente.\n",
    "\n",
    "As funções matemáticas são abstratas e servem como base para o raciocínio teórico. Elas são utilizadas para modelar relações e processos em diversos campos, como física, economia e biologia.\n",
    "\n",
    "Incluem funções lineares, quadráticas, polinomiais, exponenciais, logarítmicas, trigonométricas, entre outras. Cada tipo tem uma fórmula específica e propriedades que são estudadas e aplicadas em diferentes contextos teóricos.\n",
    "\n",
    "Muitas funções matemáticas podem ser representadas graficamente em um sistema de coordenadas, ilustrando a relação entre as variáveis de entrada e saída.\n",
    "\n",
    "**Funções em Programação de Computadores**:\n",
    "\n",
    "Nas linguagens de programação, uma função é um bloco de código projetado para realizar uma tarefa específica. Ela pode ser chamada (invocada) repetidamente dentro de um programa, potencialmente com diferentes argumentos (entradas).\n",
    "\n",
    "Funções em programação podem retornar valores, mas também podem realizar ações sem retorno (como imprimir texto na tela ou modificar arquivos). Elas podem aceitar diversos tipos de entradas, incluindo outras funções, e podem produzir diferentes saídas baseadas em lógica condicional ou iterações.\n",
    "\n",
    "Funções em programação podem ter efeitos colaterais, como alterar o estado de variáveis globais ou interagir com sistemas externos. O escopo de uma função define quais variáveis e dados ela pode acessar e modificar.\n",
    "\n",
    "Enquanto as funções matemáticas são teóricas, as funções em programação são usadas para construir software e resolver problemas práticos. Elas são fundamentais para a estruturação de código, tornando-o mais organizado, legível e eficiente.\n",
    "\n",
    "Exemplo de função matemática:\n",
    "\n",
    "ax + b = 0"
   ]
  },
  {
   "cell_type": "code",
   "execution_count": 3,
   "metadata": {},
   "outputs": [],
   "source": [
    "# Exemplo de função em programação:\n",
    "def resolve_linear(a, b):\n",
    "    if a == 0:\n",
    "        return \"Sem solução\" if b != 0 else \"Soluções infinitas\"\n",
    "    return -b / a"
   ]
  },
  {
   "cell_type": "markdown",
   "metadata": {},
   "source": [
    "## Representação Gráfica de Funções"
   ]
  },
  {
   "cell_type": "markdown",
   "metadata": {},
   "source": [
    "Vamos criar um exemplo com a função quadrática f(x) = x ^ 2."
   ]
  },
  {
   "cell_type": "code",
   "execution_count": 4,
   "metadata": {},
   "outputs": [],
   "source": [
    "# Imports\n",
    "import numpy as np\n",
    "import matplotlib.pyplot as plt"
   ]
  },
  {
   "cell_type": "code",
   "execution_count": 5,
   "metadata": {},
   "outputs": [],
   "source": [
    "# Define a função\n",
    "def f(x):\n",
    "    return x ** 2"
   ]
  },
  {
   "cell_type": "code",
   "execution_count": 6,
   "metadata": {},
   "outputs": [],
   "source": [
    "# Cria um conjunto de valores aleatórios de x (por exemplo, de -10 a 10)\n",
    "x = np.linspace(-10, 10, 400)"
   ]
  },
  {
   "cell_type": "code",
   "execution_count": 7,
   "metadata": {},
   "outputs": [],
   "source": [
    "# Calcula os valores de y para cada valor de x\n",
    "y = f(x)"
   ]
  },
  {
   "cell_type": "code",
   "execution_count": 8,
   "metadata": {},
   "outputs": [
    {
     "data": {
      "text/plain": [
       "array([1.00000000e+02, 9.90000063e+01, 9.80050377e+01, 9.70150941e+01,\n",
       "       9.60301757e+01, 9.50502823e+01, 9.40754141e+01, 9.31055709e+01,\n",
       "       9.21407529e+01, 9.11809599e+01, 9.02261920e+01, 8.92764493e+01,\n",
       "       8.83317316e+01, 8.73920390e+01, 8.64573715e+01, 8.55277291e+01,\n",
       "       8.46031118e+01, 8.36835196e+01, 8.27689525e+01, 8.18594104e+01,\n",
       "       8.09548935e+01, 8.00554017e+01, 7.91609349e+01, 7.82714933e+01,\n",
       "       7.73870767e+01, 7.65076853e+01, 7.56333189e+01, 7.47639776e+01,\n",
       "       7.38996614e+01, 7.30403703e+01, 7.21861044e+01, 7.13368635e+01,\n",
       "       7.04926477e+01, 6.96534570e+01, 6.88192913e+01, 6.79901508e+01,\n",
       "       6.71660354e+01, 6.63469451e+01, 6.55328798e+01, 6.47238397e+01,\n",
       "       6.39198246e+01, 6.31208347e+01, 6.23268698e+01, 6.15379300e+01,\n",
       "       6.07540154e+01, 5.99751258e+01, 5.92012613e+01, 5.84324219e+01,\n",
       "       5.76686076e+01, 5.69098184e+01, 5.61560543e+01, 5.54073153e+01,\n",
       "       5.46636014e+01, 5.39249125e+01, 5.31912488e+01, 5.24626102e+01,\n",
       "       5.17389966e+01, 5.10204082e+01, 5.03068448e+01, 4.95983065e+01,\n",
       "       4.88947934e+01, 4.81963053e+01, 4.75028423e+01, 4.68144044e+01,\n",
       "       4.61309916e+01, 4.54526039e+01, 4.47792413e+01, 4.41109038e+01,\n",
       "       4.34475914e+01, 4.27893041e+01, 4.21360419e+01, 4.14878047e+01,\n",
       "       4.08445927e+01, 4.02064057e+01, 3.95732439e+01, 3.89451071e+01,\n",
       "       3.83219955e+01, 3.77039089e+01, 3.70908474e+01, 3.64828110e+01,\n",
       "       3.58797998e+01, 3.52818136e+01, 3.46888525e+01, 3.41009165e+01,\n",
       "       3.35180055e+01, 3.29401197e+01, 3.23672590e+01, 3.17994234e+01,\n",
       "       3.12366128e+01, 3.06788274e+01, 3.01260670e+01, 2.95783318e+01,\n",
       "       2.90356216e+01, 2.84979366e+01, 2.79652766e+01, 2.74376417e+01,\n",
       "       2.69150319e+01, 2.63974473e+01, 2.58848877e+01, 2.53773532e+01,\n",
       "       2.48748438e+01, 2.43773594e+01, 2.38849002e+01, 2.33974661e+01,\n",
       "       2.29150571e+01, 2.24376731e+01, 2.19653143e+01, 2.14979805e+01,\n",
       "       2.10356719e+01, 2.05783883e+01, 2.01261299e+01, 1.96788965e+01,\n",
       "       1.92366882e+01, 1.87995050e+01, 1.83673469e+01, 1.79402139e+01,\n",
       "       1.75181060e+01, 1.71010232e+01, 1.66889655e+01, 1.62819329e+01,\n",
       "       1.58799254e+01, 1.54829429e+01, 1.50909856e+01, 1.47040534e+01,\n",
       "       1.43221462e+01, 1.39452642e+01, 1.35734072e+01, 1.32065753e+01,\n",
       "       1.28447686e+01, 1.24879869e+01, 1.21362303e+01, 1.17894988e+01,\n",
       "       1.14477924e+01, 1.11111111e+01, 1.07794549e+01, 1.04528238e+01,\n",
       "       1.01312178e+01, 9.81463684e+00, 9.50308101e+00, 9.19655027e+00,\n",
       "       8.89504463e+00, 8.59856408e+00, 8.30710862e+00, 8.02067826e+00,\n",
       "       7.73927299e+00, 7.46289282e+00, 7.19153774e+00, 6.92520776e+00,\n",
       "       6.66390286e+00, 6.40762307e+00, 6.15636836e+00, 5.91013876e+00,\n",
       "       5.66893424e+00, 5.43275482e+00, 5.20160049e+00, 4.97547126e+00,\n",
       "       4.75436712e+00, 4.53828808e+00, 4.32723413e+00, 4.12120527e+00,\n",
       "       3.92020151e+00, 3.72422284e+00, 3.53326926e+00, 3.34734078e+00,\n",
       "       3.16643740e+00, 2.99055910e+00, 2.81970591e+00, 2.65387780e+00,\n",
       "       2.49307479e+00, 2.33729688e+00, 2.18654405e+00, 2.04081633e+00,\n",
       "       1.90011369e+00, 1.76443615e+00, 1.63378371e+00, 1.50815636e+00,\n",
       "       1.38755410e+00, 1.27197693e+00, 1.16142487e+00, 1.05589789e+00,\n",
       "       9.55396009e-01, 8.59919222e-01, 7.69467528e-01, 6.84040929e-01,\n",
       "       6.03639424e-01, 5.28263013e-01, 4.57911697e-01, 3.92585474e-01,\n",
       "       3.32284345e-01, 2.77008310e-01, 2.26757370e-01, 1.81531523e-01,\n",
       "       1.41330771e-01, 1.06155112e-01, 7.60045477e-02, 5.08790774e-02,\n",
       "       3.07787011e-02, 1.57034189e-02, 5.65323082e-03, 6.28136758e-04,\n",
       "       6.28136758e-04, 5.65323082e-03, 1.57034189e-02, 3.07787011e-02,\n",
       "       5.08790774e-02, 7.60045477e-02, 1.06155112e-01, 1.41330771e-01,\n",
       "       1.81531523e-01, 2.26757370e-01, 2.77008310e-01, 3.32284345e-01,\n",
       "       3.92585474e-01, 4.57911697e-01, 5.28263013e-01, 6.03639424e-01,\n",
       "       6.84040929e-01, 7.69467528e-01, 8.59919222e-01, 9.55396009e-01,\n",
       "       1.05589789e+00, 1.16142487e+00, 1.27197693e+00, 1.38755410e+00,\n",
       "       1.50815636e+00, 1.63378371e+00, 1.76443615e+00, 1.90011369e+00,\n",
       "       2.04081633e+00, 2.18654405e+00, 2.33729688e+00, 2.49307479e+00,\n",
       "       2.65387780e+00, 2.81970591e+00, 2.99055910e+00, 3.16643740e+00,\n",
       "       3.34734078e+00, 3.53326926e+00, 3.72422284e+00, 3.92020151e+00,\n",
       "       4.12120527e+00, 4.32723413e+00, 4.53828808e+00, 4.75436712e+00,\n",
       "       4.97547126e+00, 5.20160049e+00, 5.43275482e+00, 5.66893424e+00,\n",
       "       5.91013876e+00, 6.15636836e+00, 6.40762307e+00, 6.66390286e+00,\n",
       "       6.92520776e+00, 7.19153774e+00, 7.46289282e+00, 7.73927299e+00,\n",
       "       8.02067826e+00, 8.30710862e+00, 8.59856408e+00, 8.89504463e+00,\n",
       "       9.19655027e+00, 9.50308101e+00, 9.81463684e+00, 1.01312178e+01,\n",
       "       1.04528238e+01, 1.07794549e+01, 1.11111111e+01, 1.14477924e+01,\n",
       "       1.17894988e+01, 1.21362303e+01, 1.24879869e+01, 1.28447686e+01,\n",
       "       1.32065753e+01, 1.35734072e+01, 1.39452642e+01, 1.43221462e+01,\n",
       "       1.47040534e+01, 1.50909856e+01, 1.54829429e+01, 1.58799254e+01,\n",
       "       1.62819329e+01, 1.66889655e+01, 1.71010232e+01, 1.75181060e+01,\n",
       "       1.79402139e+01, 1.83673469e+01, 1.87995050e+01, 1.92366882e+01,\n",
       "       1.96788965e+01, 2.01261299e+01, 2.05783883e+01, 2.10356719e+01,\n",
       "       2.14979805e+01, 2.19653143e+01, 2.24376731e+01, 2.29150571e+01,\n",
       "       2.33974661e+01, 2.38849002e+01, 2.43773594e+01, 2.48748438e+01,\n",
       "       2.53773532e+01, 2.58848877e+01, 2.63974473e+01, 2.69150319e+01,\n",
       "       2.74376417e+01, 2.79652766e+01, 2.84979366e+01, 2.90356216e+01,\n",
       "       2.95783318e+01, 3.01260670e+01, 3.06788274e+01, 3.12366128e+01,\n",
       "       3.17994234e+01, 3.23672590e+01, 3.29401197e+01, 3.35180055e+01,\n",
       "       3.41009165e+01, 3.46888525e+01, 3.52818136e+01, 3.58797998e+01,\n",
       "       3.64828110e+01, 3.70908474e+01, 3.77039089e+01, 3.83219955e+01,\n",
       "       3.89451071e+01, 3.95732439e+01, 4.02064057e+01, 4.08445927e+01,\n",
       "       4.14878047e+01, 4.21360419e+01, 4.27893041e+01, 4.34475914e+01,\n",
       "       4.41109038e+01, 4.47792413e+01, 4.54526039e+01, 4.61309916e+01,\n",
       "       4.68144044e+01, 4.75028423e+01, 4.81963053e+01, 4.88947934e+01,\n",
       "       4.95983065e+01, 5.03068448e+01, 5.10204082e+01, 5.17389966e+01,\n",
       "       5.24626102e+01, 5.31912488e+01, 5.39249125e+01, 5.46636014e+01,\n",
       "       5.54073153e+01, 5.61560543e+01, 5.69098184e+01, 5.76686076e+01,\n",
       "       5.84324219e+01, 5.92012613e+01, 5.99751258e+01, 6.07540154e+01,\n",
       "       6.15379300e+01, 6.23268698e+01, 6.31208347e+01, 6.39198246e+01,\n",
       "       6.47238397e+01, 6.55328798e+01, 6.63469451e+01, 6.71660354e+01,\n",
       "       6.79901508e+01, 6.88192913e+01, 6.96534570e+01, 7.04926477e+01,\n",
       "       7.13368635e+01, 7.21861044e+01, 7.30403703e+01, 7.38996614e+01,\n",
       "       7.47639776e+01, 7.56333189e+01, 7.65076853e+01, 7.73870767e+01,\n",
       "       7.82714933e+01, 7.91609349e+01, 8.00554017e+01, 8.09548935e+01,\n",
       "       8.18594104e+01, 8.27689525e+01, 8.36835196e+01, 8.46031118e+01,\n",
       "       8.55277291e+01, 8.64573715e+01, 8.73920390e+01, 8.83317316e+01,\n",
       "       8.92764493e+01, 9.02261920e+01, 9.11809599e+01, 9.21407529e+01,\n",
       "       9.31055709e+01, 9.40754141e+01, 9.50502823e+01, 9.60301757e+01,\n",
       "       9.70150941e+01, 9.80050377e+01, 9.90000063e+01, 1.00000000e+02])"
      ]
     },
     "execution_count": 8,
     "metadata": {},
     "output_type": "execute_result"
    }
   ],
   "source": [
    "y"
   ]
  },
  {
   "cell_type": "code",
   "execution_count": 9,
   "metadata": {},
   "outputs": [
    {
     "data": {
      "image/png": "[encoded data removed]",
      "text/plain": [
       "<Figure size 600x400 with 1 Axes>"
      ]
     },
     "metadata": {},
     "output_type": "display_data"
    }
   ],
   "source": [
    "# Cria o gráfico\n",
    "plt.figure(figsize = (6, 4))\n",
    "plt.plot(x, y, label = 'f(x) = x^2')\n",
    "\n",
    "# Adiciona um título e rótulos aos eixos\n",
    "plt.title('Gráfico da Função Quadrática')\n",
    "plt.xlabel('x')\n",
    "plt.ylabel('f(x)')\n",
    "\n",
    "# Adiciona uma legenda\n",
    "plt.legend()\n",
    "\n",
    "# Mostra o gráfico\n",
    "plt.grid(True)\n",
    "plt.show()"
   ]
  },
  {
   "cell_type": "markdown",
   "metadata": {},
   "source": [
    "## Seno, Cosseno e Tangente"
   ]
  },
  {
   "cell_type": "markdown",
   "metadata": {},
   "source": [
    "> O seno é uma função matemática fundamental, comumente encontrada na trigonometria, um ramo da Matemática que lida com as relações entre os lados e os ângulos dos triângulos. O Seno é a razão entre o cateto oposto e a hipotenusa de um triângulo retângulo, ou seja, trata-se de uma razão trigonométrica."
   ]
  },
  {
   "cell_type": "code",
   "execution_count": 10,
   "metadata": {},
   "outputs": [
    {
     "name": "stdout",
     "output_type": "stream",
     "text": [
      "Seno de 30°: 0.49999999999999994\n"
     ]
    }
   ],
   "source": [
    "# Importa o módulo 'math', que contém funções matemáticas\n",
    "import math \n",
    "\n",
    "# Calculando o seno de 30 graus\n",
    "\n",
    "# Define o ângulo em graus, neste caso 30 graus\n",
    "angulo_graus = 30 \n",
    "\n",
    "# Converte o ângulo de graus para radianos\n",
    "angulo_radianos = math.radians(angulo_graus)  \n",
    "\n",
    "# Calcula o seno do ângulo, que agora está em radianos\n",
    "seno = math.sin(angulo_radianos)  \n",
    "\n",
    "# Exibe o valor do seno de 30 graus\n",
    "print(\"Seno de 30°:\", seno)  "
   ]
  },
  {
   "cell_type": "markdown",
   "metadata": {},
   "source": [
    "> > O cosseno de um ângulo em um triângulo retângulo é a razão entre o comprimento do lado adjacente ao ângulo e o comprimento da hipotenusa."
   ]
  },
  {
   "cell_type": "code",
   "execution_count": 11,
   "metadata": {},
   "outputs": [
    {
     "name": "stdout",
     "output_type": "stream",
     "text": [
      "Cosseno de 45°: 0.7071067811865476\n"
     ]
    }
   ],
   "source": [
    "import math\n",
    "\n",
    "# Calculando o cosseno de 45 graus\n",
    "\n",
    "angulo_graus = 45\n",
    "angulo_radianos = math.radians(angulo_graus)\n",
    "cosseno = math.cos(angulo_radianos)\n",
    "print(\"Cosseno de 45°:\", cosseno)"
   ]
  },
  {
   "cell_type": "markdown",
   "metadata": {},
   "source": [
    "> A tangente de um ângulo em um triângulo retângulo é a razão entre o comprimento do lado oposto ao ângulo e o comprimento do lado adjacente."
   ]
  },
  {
   "cell_type": "code",
   "execution_count": 12,
   "metadata": {},
   "outputs": [
    {
     "name": "stdout",
     "output_type": "stream",
     "text": [
      "Tangente de 60°: 1.7320508075688767\n"
     ]
    }
   ],
   "source": [
    "import math\n",
    "\n",
    "# Calculando a tangente de 60 graus\n",
    "\n",
    "angulo_graus = 60\n",
    "angulo_radianos = math.radians(angulo_graus)\n",
    "tangente = math.tan(angulo_radianos)\n",
    "print(\"Tangente de 60°:\", tangente)"
   ]
  },
  {
   "cell_type": "markdown",
   "metadata": {},
   "source": [
    "> Aplicação"
   ]
  },
  {
   "cell_type": "markdown",
   "metadata": {},
   "source": [
    "Nos modelos \"Transformers\", utilizados em Processamento de Linguagem Natural e outras tarefas de aprendizado de máquina como LLMs (Large Language Models), a função seno (junto com a função cosseno) desempenha um papel importante na criação de \"positional encodings\". Estes codificadores de posição são adicionados aos embeddings (representações vetoriais) das palavras para fornecer informações sobre a posição das palavras na sequência. \n",
    "\n",
    "Nos modelos tradicionais de processamento de linguagem, como as redes neurais recorrentes (RNNs) e as redes de memória longa e curta prazo (LSTMs), a ordem das palavras é processada naturalmente, pois esses modelos leem a entrada sequencialmente. No entanto, os Transformers não processam dados dessa maneira. Eles processam todas as palavras simultaneamente (em paralelo), o que os torna muito eficientes, mas também significa que eles não têm uma noção inerente de ordem de palavra ou posição na sequência.\n",
    "\n",
    "Para resolver essa limitação, os Transformers usam codificadores de posição. Esses codificadores são vetores adicionados aos embeddings das palavras, proporcionando um meio de distinguir a posição de diferentes palavras na sequência.\n",
    "\n",
    "O artigo original que introduziu os Transformers (\"Attention Is All You Need\" por Vaswani et al., 2017) propõe o uso de funções seno e cosseno com frequências variadas para esses codificadores de posição. Veja o paper original de pesquisa:\n",
    "\n",
    "https://arxiv.org/pdf/1706.03762.pdf\n",
    "\n",
    "Por que Seno e Cosseno?\n",
    "\n",
    "- Uniformidade e Diferenciação: As funções seno e cosseno variam de maneira regular e previsível, o que ajuda o modelo a aprender facilmente a relação entre as posições.\n",
    "- Generalização para Sequências Longas: Estas funções permitem que o modelo generalize para posições que não foram vistas durante o treinamento, pois os padrões de seno e cosseno são consistentes e se repetem.\n",
    "- Preservação da Relação Linear: A combinação de seno e cosseno permite preservar a relação linear com a distância entre as palavras, o que é importante para o mecanismo de atenção do modelo."
   ]
  },
  {
   "cell_type": "markdown",
   "metadata": {},
   "source": [
    "## Logaritmos e Logaritmos Naturais"
   ]
  },
  {
   "cell_type": "markdown",
   "metadata": {},
   "source": [
    "Logaritmos são uma operação matemática fundamental, que representa o oposto da exponenciação. \n",
    "\n",
    "Um logaritmo é uma função que retorna o número ao qual a base precisa ser elevada para obter o logaritmando. \n",
    "\n",
    "De forma simples, o logaritmo de um número é o expoente ao qual outro número fixo, a base, deve ser elevado para produzir esse número. \n",
    "\n",
    "Em termos de uma equação, se temos a^x = b, então o logaritmo de b na base a é x, frequentemente escrito como log_a(b) = x.\n",
    "\n",
    "Por exemplo, na equação 2^3 = 8, o logaritmo de 8 na base 2 é 3, porque 2 elevado à potência de 3 é igual a 8. Isso é escrito como log_2(8) = 3.\n",
    "\n",
    "Os logaritmos são usados em muitas áreas da ciência, engenharia e matemática para simplificar cálculos complexos, pois transformam operações de multiplicação em adição e divisão em subtração.\n",
    "\n",
    "Os logaritmos naturais são um caso especial de logaritmos onde a base é o número especial e irracional conhecido como **e** (aproximadamente igual a 2.71828), que é o número Euler. \n",
    "\n",
    "https://pt.wikipedia.org/wiki/Sete_pontes_de_K%C3%B6nigsberg\n",
    "\n",
    "O logaritmo natural de um número x é frequentemente escrito como ln(x). O número **e** é a base dos logaritmos naturais por ser fundamentalmente relacionado a taxas de crescimento e decaimento em matemática contínua, como no cálculo.\n",
    "\n",
    "Por exemplo, se e^x = y, então ln(y) = x. Os logaritmos naturais são particularmente importantes no estudo do cálculo e aparecem em várias fórmulas e aplicações, incluindo o cálculo de juros compostos, crescimento populacional e na definição de funções exponenciais e logarítmicas contínuas.\n",
    "\n",
    "Os logaritmos de base 10 possuem aplicação em escalas de terremoto. A famosa escala Richter é baseada nessa função, já que a potência dos abalos sísmicos cresce por década. Também são utilizados em funções que variam pouco em y para altas escalas de x, por exemplo os diagramas para circuitos elétricos. Conforme a frequência x cresce, 10, 100, 1000, o módulo da função varia pouco, assim ela é plotada em um gráfico log-log.\n",
    "\n",
    "\n",
    "Leia os itens a seguir no Capítulo 4:\n",
    "\n",
    "- Quando e Por Que Usamos Logaritmos em Data Science?\n",
    "- Como Usamos os Logaritmos em Machine Learning e Inteligência Artificial?"
   ]
  },
  {
   "cell_type": "markdown",
   "metadata": {},
   "source": [
    "## Transformação de Log"
   ]
  },
  {
   "cell_type": "code",
   "execution_count": 13,
   "metadata": {},
   "outputs": [
    {
     "name": "stdout",
     "output_type": "stream",
     "text": [
      "Logaritmo do Produto: 2.70805020110221 Propriedade: 2.70805020110221\n",
      "Logaritmo do Quociente: 0.5108256237659907 Propriedade: 0.5108256237659905\n",
      "Logaritmo da Potência: 3.2188758248682006 Propriedade: 3.2188758248682006\n"
     ]
    }
   ],
   "source": [
    "import math\n",
    "\n",
    "# Definindo números para o exemplo\n",
    "a = 5\n",
    "b = 3\n",
    "c = 2\n",
    "\n",
    "# Calculando logaritmos usando funções Python\n",
    "\n",
    "# Logaritmo do produto\n",
    "log_product = math.log(a * b)\n",
    "\n",
    "# Logaritmo do quociente\n",
    "log_quotient = math.log(a / b)\n",
    "\n",
    "# Logaritmo de uma potência\n",
    "log_power = math.log(a**c)\n",
    "\n",
    "# Demonstrando as propriedades dos logaritmos\n",
    "\n",
    "# Propriedade do Produto: log(a*b) = log(a) + log(b)\n",
    "print(\"Logaritmo do Produto:\", log_product, \"Propriedade:\", math.log(a) + math.log(b))\n",
    "\n",
    "# Propriedade do Quociente: log(a/b) = log(a) - log(b)\n",
    "print(\"Logaritmo do Quociente:\", log_quotient, \"Propriedade:\", math.log(a) - math.log(b))\n",
    "\n",
    "# Propriedade da Potência: log(a^c) = c * log(a)\n",
    "print(\"Logaritmo da Potência:\", log_power, \"Propriedade:\", c * math.log(a))"
   ]
  },
  {
   "cell_type": "markdown",
   "metadata": {},
   "source": [
    "## Exemplo de Uso da Transformação de Log em Data Science"
   ]
  },
  {
   "cell_type": "markdown",
   "metadata": {},
   "source": [
    "Vamos criar um exemplo com código Python que ilustra como aplicar a transformação de log em um conjunto de dados. Neste exemplo, usaremos a biblioteca numpy para manipular os dados e matplotlib para visualização. Suponha que temos um conjunto de dados com valores que variam significativamente e queremos aplicar uma transformação de log para normalizá-los."
   ]
  },
  {
   "cell_type": "code",
   "execution_count": 14,
   "metadata": {},
   "outputs": [
    {
     "data": {
      "image/png": "[encoded data removed]",
      "text/plain": [
       "<Figure size 800x400 with 2 Axes>"
      ]
     },
     "metadata": {},
     "output_type": "display_data"
    }
   ],
   "source": [
    "import numpy as np\n",
    "import matplotlib.pyplot as plt\n",
    "\n",
    "# Gerando dados de exemplo: preços de casas\n",
    "np.random.seed(0)\n",
    "precos_casas = np.random.lognormal(mean = 13, sigma = 0.6, size = 1000)\n",
    "\n",
    "# Aplicando a transformação logarítmica\n",
    "precos_casas_log = np.log(precos_casas)\n",
    "\n",
    "# Criando os gráficos para comparação\n",
    "plt.figure(figsize = (8, 4))\n",
    "\n",
    "# Gráfico dos dados originais\n",
    "plt.subplot(1, 2, 1)\n",
    "plt.hist(precos_casas, bins = 30, color = 'blue', alpha = 0.7)\n",
    "plt.title('Distribuição dos Preços das Casas')\n",
    "plt.xlabel('Preço')\n",
    "plt.ylabel('Frequência')\n",
    "\n",
    "# Gráfico dos dados transformados\n",
    "plt.subplot(1, 2, 2)\n",
    "plt.hist(precos_casas_log, bins = 30, color = 'green', alpha = 0.7)\n",
    "plt.title('Distribuição Logarítmica dos Preços das Casas')\n",
    "plt.xlabel('Log do Preço')\n",
    "plt.ylabel('Frequência')\n",
    "\n",
    "plt.tight_layout()\n",
    "plt.show()"
   ]
  },
  {
   "cell_type": "markdown",
   "metadata": {},
   "source": [
    "**Gráfico à Esquerda**: Mostra a distribuição dos preços das casas. Podemos observar que a distribuição é assimétrica à direita (ou seja, inclinada para a direita), com uma cauda longa para valores maiores. Essa é uma característica comum em dados financeiros, como preços de casas.\n",
    "\n",
    "**Gráfico à Direita**: Mostra a distribuição dos mesmos dados após a aplicação da transformação logarítmica. A transformação logarítmica ajuda a normalizar a distribuição, reduzindo a assimetria e tornando-a mais próxima de uma distribuição normal. Isso pode ser extremamente útil para análises estatísticas e modelos preditivos, uma vez que muitos algoritmos de aprendizado de máquina assumem que as variáveis de entrada seguem uma distribuição normal.\n",
    "\n",
    "Este exemplo demonstra como a transformação logarítmica pode ser uma ferramenta poderosa em Data Science, especialmente no tratamento de dados com distribuições assimétricas. \n",
    "\n",
    "Modificamos os dados sem modificar a informação. Fazemos isso o tempo todo em Data Science."
   ]
  },
  {
   "cell_type": "code",
   "execution_count": 15,
   "metadata": {},
   "outputs": [
    {
     "name": "stdout",
     "output_type": "stream",
     "text": [
      "Author: Data Science Academy\n",
      "\n"
     ]
    }
   ],
   "source": [
    "%reload_ext watermark\n",
    "%watermark -a \"Data Science Academy\""
   ]
  },
  {
   "cell_type": "code",
   "execution_count": 16,
   "metadata": {},
   "outputs": [],
   "source": [
    "#%watermark -v -m"
   ]
  },
  {
   "cell_type": "code",
   "execution_count": 17,
   "metadata": {},
   "outputs": [],
   "source": [
    "#%watermark --iversions"
   ]
  },
  {
   "cell_type": "markdown",
   "metadata": {},
   "source": [
    "# Fim"
   ]
  }
 ],
 "metadata": {
  "kernelspec": {
   "display_name": "Python 3 (ipykernel)",
   "language": "python",
   "name": "python3"
  },
  "language_info": {
   "codemirror_mode": {
    "name": "ipython",
    "version": 3
   },
   "file_extension": ".py",
   "mimetype": "text/x-python",
   "name": "python",
   "nbconvert_exporter": "python",
   "pygments_lexer": "ipython3",
   "version": "3.13.5"
  }
 },
 "nbformat": 4,
 "nbformat_minor": 4
}
