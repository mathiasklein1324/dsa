{
  "cells": [
    {
      "cell_type": "markdown",
      "metadata": {
        "id": "eqgMigyzpIII"
      },
      "source": [
        "<!-- Projeto Desenvolvido na Data Science Academy - www.datascienceacademy.com.br -->\n",
        "# <font color='blue'>Data Science Academy</font>\n",
        "## <font color='blue'>Matemática e Estatística Aplicada Para Data Science, Machine Learning e IA</font>\n",
        "## <font color='blue'>Lista de Exercícios 1</font>\n",
        "## <font color='blue'>Matemática Fundamental com Linguagem Python</font>"
      ]
    },
    {
      "cell_type": "markdown",
      "metadata": {
        "id": "qAr1XjUTpIIN"
      },
      "source": [
        "### Instalando e Carregando Pacotes"
      ]
    },
    {
      "cell_type": "code",
      "execution_count": 1,
      "metadata": {
        "colab": {
          "base_uri": "https://localhost:8080/"
        },
        "id": "qhWrnFgkpIIO",
        "outputId": "cae4dbad-fdc7-4d94-a40e-2f9096b966c3"
      },
      "outputs": [
        {
          "output_type": "stream",
          "name": "stdout",
          "text": [
            "\u001b[?25l   \u001b[90m━━━━━━━━━━━━━━━━━━━━━━━━━━━━━━━━━━━━━━━━\u001b[0m \u001b[32m0.0/1.6 MB\u001b[0m \u001b[31m?\u001b[0m eta \u001b[36m-:--:--\u001b[0m\r\u001b[2K   \u001b[91m━━━━━━━━━\u001b[0m\u001b[90m╺\u001b[0m\u001b[90m━━━━━━━━━━━━━━━━━━━━━━━━━━━━━━\u001b[0m \u001b[32m0.4/1.6 MB\u001b[0m \u001b[31m11.0 MB/s\u001b[0m eta \u001b[36m0:00:01\u001b[0m\r\u001b[2K   \u001b[91m━━━━━━━━━━━━━━━━━━━━━━━━━━━━━━━━━━━━━━━\u001b[0m\u001b[91m╸\u001b[0m \u001b[32m1.6/1.6 MB\u001b[0m \u001b[31m27.2 MB/s\u001b[0m eta \u001b[36m0:00:01\u001b[0m\r\u001b[2K   \u001b[90m━━━━━━━━━━━━━━━━━━━━━━━━━━━━━━━━━━━━━━━━\u001b[0m \u001b[32m1.6/1.6 MB\u001b[0m \u001b[31m19.1 MB/s\u001b[0m eta \u001b[36m0:00:00\u001b[0m\n",
            "\u001b[?25h"
          ]
        }
      ],
      "source": [
        "# Para atualizar um pacote, execute o comando abaixo no terminal ou prompt de comando:\n",
        "# pip install -U nome_pacote\n",
        "\n",
        "# Para instalar a versão exata de um pacote, execute o comando abaixo no terminal ou prompt de comando:\n",
        "# !pip install nome_pacote==versão_desejada\n",
        "\n",
        "# Depois de instalar ou atualizar o pacote, reinicie o jupyter notebook.\n",
        "\n",
        "# Instala o pacote watermark.\n",
        "# Esse pacote é usado para gravar as versões de outros pacotes usados neste jupyter notebook.\n",
        "!pip install -q -U watermark"
      ]
    },
    {
      "cell_type": "code",
      "execution_count": 2,
      "metadata": {
        "colab": {
          "base_uri": "https://localhost:8080/"
        },
        "id": "CcrGV8l-pIIQ",
        "outputId": "ffc88f4c-10f8-4551-a84a-a0b70f35af0b"
      },
      "outputs": [
        {
          "output_type": "stream",
          "name": "stdout",
          "text": [
            "Author: Data Science Academy\n",
            "\n"
          ]
        }
      ],
      "source": [
        "# Versões dos pacotes usados neste jupyter notebook\n",
        "%reload_ext watermark\n",
        "%watermark -a \"Data Science Academy\" --iversions"
      ]
    },
    {
      "cell_type": "markdown",
      "metadata": {
        "id": "BKDO_DplpIIV"
      },
      "source": [
        "**Resolva os exercícios abaixo usando Linguagem Python. Faça pesquisa complementar se necessário.**"
      ]
    },
    {
      "cell_type": "markdown",
      "metadata": {
        "id": "NHEAAJOppIIW"
      },
      "source": [
        "### Exercício 1: Cálculo de Área de um Círculo\n",
        "\n",
        "Escreva um programa que calcula a área de um círculo. O usuário deve fornecer o raio e o programa deve retornar a área."
      ]
    },
    {
      "cell_type": "code",
      "execution_count": 3,
      "metadata": {
        "colab": {
          "base_uri": "https://localhost:8080/"
        },
        "id": "A_oZzyoNpIIX",
        "outputId": "08233f60-0650-4bac-c193-614495cbafe6"
      },
      "outputs": [
        {
          "output_type": "stream",
          "name": "stdout",
          "text": [
            "Enter the radius of the circle: 5\n",
            "The area of the circle with radius 5.0 is: 78.53981633974483\n"
          ]
        }
      ],
      "source": [
        "import math\n",
        "\n",
        "# Function to calculate the area of a circle\n",
        "def calculate_circle_area(radius):\n",
        "  \"\"\"Calculates the area of a circle given its radius.\"\"\"\n",
        "  if radius < 0:\n",
        "    return \"Radius cannot be negative.\"\n",
        "  else:\n",
        "    return math.pi * (radius ** 2)\n",
        "\n",
        "# Get input from the user\n",
        "try:\n",
        "  radius = float(input(\"Enter the radius of the circle: \"))\n",
        "  area = calculate_circle_area(radius)\n",
        "  print(f\"The area of the circle with radius {radius} is: {area}\")\n",
        "except ValueError:\n",
        "  print(\"Invalid input. Please enter a valid number for the radius.\")"
      ]
    },
    {
      "cell_type": "markdown",
      "metadata": {
        "id": "b-P_SrXRpIIX"
      },
      "source": [
        "### Exercício 2: Conversão de Temperatura\n",
        "\n",
        "Crie uma função que converte a temperatura de Celsius para Fahrenheit e vice-versa. O usuário deve informar a temperatura e a escala de origem."
      ]
    },
    {
      "cell_type": "code",
      "execution_count": 4,
      "metadata": {
        "colab": {
          "base_uri": "https://localhost:8080/"
        },
        "id": "lToJpV4HpIIY",
        "outputId": "44d9152e-649e-4479-c79a-762609643efe"
      },
      "outputs": [
        {
          "output_type": "stream",
          "name": "stdout",
          "text": [
            "Enter the temperature: 32\n",
            "Enter the scale (C for Celsius, F for Fahrenheit): F\n",
            "32.0°F is equal to 0.0°C\n"
          ]
        }
      ],
      "source": [
        "def celsius_to_fahrenheit(celsius):\n",
        "  \"\"\"Converts Celsius to Fahrenheit.\"\"\"\n",
        "  return (celsius * 9/5) + 32\n",
        "\n",
        "def fahrenheit_to_celsius(fahrenheit):\n",
        "  \"\"\"Converts Fahrenheit to Celsius.\"\"\"\n",
        "  return (fahrenheit - 32) * 5/9\n",
        "\n",
        "# Get input from the user\n",
        "try:\n",
        "  temp = float(input(\"Enter the temperature: \"))\n",
        "  scale = input(\"Enter the scale (C for Celsius, F for Fahrenheit): \").upper()\n",
        "\n",
        "  if scale == 'C':\n",
        "    fahrenheit = celsius_to_fahrenheit(temp)\n",
        "    print(f\"{temp}°C is equal to {fahrenheit}°F\")\n",
        "  elif scale == 'F':\n",
        "    celsius = fahrenheit_to_celsius(temp)\n",
        "    print(f\"{temp}°F is equal to {celsius}°C\")\n",
        "  else:\n",
        "    print(\"Invalid scale. Please enter 'C' or 'F'.\")\n",
        "except ValueError:\n",
        "  print(\"Invalid input. Please enter a valid number for the temperature.\")"
      ]
    },
    {
      "cell_type": "markdown",
      "metadata": {
        "id": "oMB3vkO-pIIY"
      },
      "source": [
        "### Exercício 3: Resolver uma Equação Linear\n",
        "\n",
        "Faça um programa que resolve uma equação linear do tipo ax + b = 0. Os valores de a e b são fornecidos pelo usuário."
      ]
    },
    {
      "cell_type": "code",
      "execution_count": 5,
      "metadata": {
        "colab": {
          "base_uri": "https://localhost:8080/"
        },
        "id": "Wvlzs68EpIIZ",
        "outputId": "7b8c2241-5efb-443b-de89-12f5008def78"
      },
      "outputs": [
        {
          "output_type": "stream",
          "name": "stdout",
          "text": [
            "Enter the value for a: 5\n",
            "Enter the value for b: 4\n",
            "The solution to the equation 5.0x + 4.0 = 0 is x = -0.8\n"
          ]
        }
      ],
      "source": [
        "# Get input from the user for a and b\n",
        "try:\n",
        "  a = float(input(\"Enter the value for a: \"))\n",
        "  b = float(input(\"Enter the value for b: \"))\n",
        "\n",
        "  # Solve the linear equation ax + b = 0\n",
        "  if a == 0:\n",
        "    if b == 0:\n",
        "      print(\"The equation has infinitely many solutions (any x).\")\n",
        "    else:\n",
        "      print(\"The equation has no solution.\")\n",
        "  else:\n",
        "    x = -b / a\n",
        "    print(f\"The solution to the equation {a}x + {b} = 0 is x = {x}\")\n",
        "\n",
        "except ValueError:\n",
        "  print(\"Invalid input. Please enter valid numbers for a and b.\")"
      ]
    },
    {
      "cell_type": "markdown",
      "metadata": {
        "id": "_yBkY3FQpIIZ"
      },
      "source": [
        "### Exercício 4: Cálculo de Média Aritmética\n",
        "\n",
        "Escreva um programa que calcula a média aritmética de uma lista de números fornecida pelo usuário."
      ]
    },
    {
      "cell_type": "code",
      "execution_count": 6,
      "metadata": {
        "colab": {
          "base_uri": "https://localhost:8080/"
        },
        "id": "tphP7aqFpIIZ",
        "outputId": "0ab9952a-9aa2-4c81-f393-f620cbc73cb3"
      },
      "outputs": [
        {
          "output_type": "stream",
          "name": "stdout",
          "text": [
            "Enter a list of numbers, separated by commas: 2, 3, 4, 5\n",
            "The arithmetic mean of the numbers is: 3.5\n"
          ]
        }
      ],
      "source": [
        "# Get input from the user as a comma-separated string\n",
        "numbers_str = input(\"Enter a list of numbers, separated by commas: \")\n",
        "\n",
        "# Split the string into a list of strings\n",
        "numbers_list_str = numbers_str.split(',')\n",
        "\n",
        "# Convert the list of strings to a list of numbers (float)\n",
        "try:\n",
        "  numbers_list = [float(num.strip()) for num in numbers_list_str]\n",
        "\n",
        "  # Calculate the arithmetic mean\n",
        "  if len(numbers_list) > 0:\n",
        "    arithmetic_mean = sum(numbers_list) / len(numbers_list)\n",
        "    print(f\"The arithmetic mean of the numbers is: {arithmetic_mean}\")\n",
        "  else:\n",
        "    print(\"No numbers were entered.\")\n",
        "\n",
        "except ValueError:\n",
        "  print(\"Invalid input. Please enter numbers separated by commas.\")"
      ]
    },
    {
      "cell_type": "markdown",
      "metadata": {
        "id": "lZ3WrW6ipIIa"
      },
      "source": [
        "### Exercício 5: Determinar as Raízes de uma Equação Quadrática\n",
        "\n",
        "Crie um programa que encontra as raízes de uma equação quadrática do tipo ax^2 + bx + c = 0. O programa deve lidar com todos os tipos de raízes (reais e complexas)."
      ]
    },
    {
      "cell_type": "code",
      "execution_count": 7,
      "metadata": {
        "colab": {
          "base_uri": "https://localhost:8080/"
        },
        "id": "F_B7lgpppIIa",
        "outputId": "8ed67552-0764-40a9-d2a4-c56d4c90cc95"
      },
      "outputs": [
        {
          "output_type": "stream",
          "name": "stdout",
          "text": [
            "Enter the value for a: 5\n",
            "Enter the value for b: 4\n",
            "Enter the value for c: 3\n",
            "The roots are complex: x1 = (-0.4-0.6633249580710799j) and x2 = (-0.4+0.6633249580710799j)\n"
          ]
        }
      ],
      "source": [
        "import cmath # Import the complex math module for handling complex roots\n",
        "import math # Import math for real roots\n",
        "\n",
        "# Get input from the user for a, b, and c\n",
        "try:\n",
        "  a = float(input(\"Enter the value for a: \"))\n",
        "  b = float(input(\"Enter the value for b: \"))\n",
        "  c = float(input(\"Enter the value for c: \"))\n",
        "\n",
        "  # Calculate the discriminant\n",
        "  delta = (b**2) - 4*(a*c)\n",
        "\n",
        "  # Find the roots\n",
        "  if delta >= 0:\n",
        "    x1 = (-b - math.sqrt(delta)) / (2*a)\n",
        "    x2 = (-b + math.sqrt(delta)) / (2*a)\n",
        "    print(f\"The roots are real: x1 = {x1} and x2 = {x2}\")\n",
        "  else:\n",
        "    x1 = (-b - cmath.sqrt(delta)) / (2*a)\n",
        "    x2 = (-b + cmath.sqrt(delta)) / (2*a)\n",
        "    print(f\"The roots are complex: x1 = {x1} and x2 = {x2}\")\n",
        "\n",
        "except ValueError:\n",
        "  print(\"Invalid input. Please enter valid numbers for a, b, and c.\")\n",
        "except ZeroDivisionError:\n",
        "  print(\"Invalid input. 'a' cannot be zero for a quadratic equation.\")"
      ]
    },
    {
      "cell_type": "markdown",
      "metadata": {
        "id": "sVlww4JfpIIa"
      },
      "source": [
        "### Exercício 6: Calcular o Fatorial de um Número\n",
        "\n",
        "Escreva uma função que calcula o fatorial de um número inteiro fornecido pelo usuário."
      ]
    },
    {
      "cell_type": "code",
      "execution_count": 8,
      "metadata": {
        "colab": {
          "base_uri": "https://localhost:8080/"
        },
        "id": "v-_7DD4spIIb",
        "outputId": "89259bd0-8b97-4bca-824c-abcfaf26f9f2"
      },
      "outputs": [
        {
          "output_type": "stream",
          "name": "stdout",
          "text": [
            "Enter a non-negative integer to calculate its factorial: 3\n",
            "The factorial of 3 is: 6\n"
          ]
        }
      ],
      "source": [
        "def factorial(n):\n",
        "  \"\"\"Calculates the factorial of a non-negative integer.\"\"\"\n",
        "  if n < 0:\n",
        "    return \"Factorial is not defined for negative numbers.\"\n",
        "  elif n == 0:\n",
        "    return 1\n",
        "  else:\n",
        "    result = 1\n",
        "    for i in range(1, n + 1):\n",
        "      result *= i\n",
        "    return result\n",
        "\n",
        "# Get input from the user\n",
        "try:\n",
        "  num = int(input(\"Enter a non-negative integer to calculate its factorial: \"))\n",
        "  fact = factorial(num)\n",
        "  print(f\"The factorial of {num} is: {fact}\")\n",
        "except ValueError:\n",
        "  print(\"Invalid input. Please enter a valid integer.\")"
      ]
    },
    {
      "cell_type": "markdown",
      "metadata": {
        "id": "b4Zyubj6pIIb"
      },
      "source": [
        "### Exercício 7: Sequência de Fibonacci\n",
        "\n",
        "Crie um programa que gera a sequência de Fibonacci até um determinado número n fornecido pelo usuário."
      ]
    },
    {
      "cell_type": "code",
      "execution_count": 9,
      "metadata": {
        "colab": {
          "base_uri": "https://localhost:8080/"
        },
        "id": "9pbB-bgOpIIb",
        "outputId": "7e672f11-71f9-447d-a7da-ee861e704d0e"
      },
      "outputs": [
        {
          "output_type": "stream",
          "name": "stdout",
          "text": [
            "Enter a non-negative integer to generate the Fibonacci sequence up to that number: 5\n",
            "The Fibonacci sequence up to 5 is: [0, 1, 1, 2, 3, 5]\n"
          ]
        }
      ],
      "source": [
        "def fibonacci_sequence(n):\n",
        "  \"\"\"Generates the Fibonacci sequence up to n.\"\"\"\n",
        "  if n <= 0:\n",
        "    return []\n",
        "  elif n == 1:\n",
        "    return [0]\n",
        "  else:\n",
        "    sequence = [0, 1]\n",
        "    while sequence[-1] + sequence[-2] <= n:\n",
        "      next_fib = sequence[-1] + sequence[-2]\n",
        "      sequence.append(next_fib)\n",
        "    return sequence\n",
        "\n",
        "# Get input from the user\n",
        "try:\n",
        "  num = int(input(\"Enter a non-negative integer to generate the Fibonacci sequence up to that number: \"))\n",
        "  fib_seq = fibonacci_sequence(num)\n",
        "  print(f\"The Fibonacci sequence up to {num} is: {fib_seq}\")\n",
        "except ValueError:\n",
        "  print(\"Invalid input. Please enter a valid integer.\")"
      ]
    },
    {
      "cell_type": "markdown",
      "metadata": {
        "id": "yU3ciGEspIIc"
      },
      "source": [
        "### Exercício 8: Cálculo de Juros Compostos\n",
        "\n",
        "Faça um programa que calcula o montante final de um investimento com juros compostos. O usuário deve fornecer o capital inicial, a taxa de juros anual, e o número de anos."
      ]
    },
    {
      "cell_type": "code",
      "execution_count": null,
      "metadata": {
        "id": "aEs6YQGjpIIc"
      },
      "outputs": [],
      "source": [
        "def convert_currency(amount, exchange_rate):\n",
        "  \"\"\"Converts an amount from one currency to another.\"\"\"\n",
        "  if amount < 0 or exchange_rate < 0:\n",
        "    return \"Amount and exchange rate cannot be negative.\"\n",
        "  else:\n",
        "    return amount * exchange_rate\n",
        "\n",
        "# Get input from the user\n",
        "try:\n",
        "  amount_to_convert = float(input(\"Enter the amount to convert: \"))\n",
        "  from_currency = input(\"Enter the currency you are converting from (e.g., USD): \").upper()\n",
        "  to_currency = input(\"Enter the currency you are converting to (e.g., EUR): \").upper()\n",
        "  exchange_rate = float(input(f\"Enter the exchange rate from {from_currency} to {to_currency}: \"))\n",
        "\n",
        "  converted_amount = convert_currency(amount_to_convert, exchange_rate)\n",
        "  print(f\"{amount_to_convert} {from_currency} is equal to {converted_amount:.2f} {to_currency}\")\n",
        "\n",
        "except ValueError:\n",
        "  print(\"Invalid input. Please enter valid numbers.\")"
      ]
    },
    {
      "cell_type": "markdown",
      "metadata": {
        "id": "LGXb3AqApIIc"
      },
      "source": [
        "### Exercício 9: Conversão de Moedas\n",
        "\n",
        "Escreva um programa que converte uma quantidade de uma moeda (como dólar) para outra (como euro), considerando uma taxa de câmbio fornecida pelo usuário."
      ]
    },
    {
      "cell_type": "code",
      "execution_count": 11,
      "metadata": {
        "colab": {
          "base_uri": "https://localhost:8080/"
        },
        "id": "hw8Ji2EDpIId",
        "outputId": "db482454-bda0-45ee-ac4c-e782ca6ff89b"
      },
      "outputs": [
        {
          "output_type": "stream",
          "name": "stdout",
          "text": [
            "Enter the amount to convert: 50\n",
            "Enter the currency you are converting from (e.g., USD): USD\n",
            "Enter the currency you are converting to (e.g., EUR): BRL\n",
            "Enter the exchange rate from USD to BRL: 5\n",
            "50.0 USD is equal to 250.00 BRL\n"
          ]
        }
      ],
      "source": [
        "def convert_currency(amount, exchange_rate):\n",
        "  \"\"\"Converts an amount from one currency to another.\"\"\"\n",
        "  if amount < 0 or exchange_rate < 0:\n",
        "    return \"Amount and exchange rate cannot be negative.\"\n",
        "  else:\n",
        "    return amount * exchange_rate\n",
        "\n",
        "# Get input from the user\n",
        "try:\n",
        "  amount_to_convert = float(input(\"Enter the amount to convert: \"))\n",
        "  from_currency = input(\"Enter the currency you are converting from (e.g., USD): \").upper()\n",
        "  to_currency = input(\"Enter the currency you are converting to (e.g., EUR): \").upper()\n",
        "  exchange_rate = float(input(f\"Enter the exchange rate from {from_currency} to {to_currency}: \"))\n",
        "\n",
        "  converted_amount = convert_currency(amount_to_convert, exchange_rate)\n",
        "  print(f\"{amount_to_convert} {from_currency} is equal to {converted_amount:.2f} {to_currency}\")\n",
        "\n",
        "except ValueError:\n",
        "  print(\"Invalid input. Please enter valid numbers.\")"
      ]
    },
    {
      "cell_type": "markdown",
      "metadata": {
        "id": "g8o2bQnIpIId"
      },
      "source": [
        "### Exercício 10: Verificar se um Número é Primo\n",
        "\n",
        "Crie uma função que verifica se um número fornecido pelo usuário é primo ou não."
      ]
    },
    {
      "cell_type": "code",
      "execution_count": 12,
      "metadata": {
        "colab": {
          "base_uri": "https://localhost:8080/"
        },
        "id": "mBqlE7SZpIIe",
        "outputId": "158f8477-dd4c-4b17-8655-138bf70726f0"
      },
      "outputs": [
        {
          "output_type": "stream",
          "name": "stdout",
          "text": [
            "Enter an integer to check if it's prime: 3\n",
            "3 is a prime number.\n"
          ]
        }
      ],
      "source": [
        "def is_prime(num):\n",
        "  \"\"\"Checks if a number is prime.\"\"\"\n",
        "  if num <= 1:\n",
        "    return False\n",
        "  for i in range(2, int(num**0.5) + 1):\n",
        "    if num % i == 0:\n",
        "      return False\n",
        "  return True\n",
        "\n",
        "# Get input from the user\n",
        "try:\n",
        "  number_to_check = int(input(\"Enter an integer to check if it's prime: \"))\n",
        "  if is_prime(number_to_check):\n",
        "    print(f\"{number_to_check} is a prime number.\")\n",
        "  else:\n",
        "    print(f\"{number_to_check} is not a prime number.\")\n",
        "except ValueError:\n",
        "  print(\"Invalid input. Please enter a valid integer.\")"
      ]
    },
    {
      "cell_type": "code",
      "execution_count": 13,
      "metadata": {
        "colab": {
          "base_uri": "https://localhost:8080/"
        },
        "id": "uCaS4xmJpIIe",
        "outputId": "f195479c-49d2-4a77-c394-89cb6f8f21f7"
      },
      "outputs": [
        {
          "output_type": "stream",
          "name": "stdout",
          "text": [
            "Author: Data Science Academy\n",
            "\n"
          ]
        }
      ],
      "source": [
        "%reload_ext watermark\n",
        "%watermark -a \"Data Science Academy\""
      ]
    },
    {
      "cell_type": "code",
      "execution_count": 14,
      "metadata": {
        "colab": {
          "base_uri": "https://localhost:8080/"
        },
        "id": "YK3u7u_DpIIe",
        "outputId": "2e7343b4-acd9-4774-9ae0-3b644d5e795e"
      },
      "outputs": [
        {
          "output_type": "stream",
          "name": "stdout",
          "text": [
            "Python implementation: CPython\n",
            "Python version       : 3.12.11\n",
            "IPython version      : 7.34.0\n",
            "\n",
            "Compiler    : GCC 11.4.0\n",
            "OS          : Linux\n",
            "Release     : 6.1.123+\n",
            "Machine     : x86_64\n",
            "Processor   : x86_64\n",
            "CPU cores   : 2\n",
            "Architecture: 64bit\n",
            "\n"
          ]
        }
      ],
      "source": [
        "%watermark -v -m"
      ]
    },
    {
      "cell_type": "markdown",
      "metadata": {
        "id": "STbAO88opIIf"
      },
      "source": [
        "# Fim"
      ]
    }
  ],
  "metadata": {
    "kernelspec": {
      "display_name": "Python 3 (ipykernel)",
      "language": "python",
      "name": "python3"
    },
    "language_info": {
      "codemirror_mode": {
        "name": "ipython",
        "version": 3
      },
      "file_extension": ".py",
      "mimetype": "text/x-python",
      "name": "python",
      "nbconvert_exporter": "python",
      "pygments_lexer": "ipython3",
      "version": "3.13.5"
    },
    "colab": {
      "provenance": []
    }
  },
  "nbformat": 4,
  "nbformat_minor": 0
}