{
  "cells": [
    {
      "cell_type": "markdown",
      "metadata": {
        "id": "An9yDLh0CCwq"
      },
      "source": [
        "<!-- Projeto Desenvolvido na Data Science Academy - www.datascienceacademy.com.br -->\n",
        "# <font color='blue'>Data Science Academy</font>\n",
        "## <font color='blue'>Matemática e Estatística Aplicada Para Data Science, Machine Learning e IA</font>\n",
        "## <font color='blue'>Lab 3</font>\n",
        "## <font color='blue'>Regras Básicas da Álgebra, Operações com Vetores e Algoritmo de Machine Learning</font>"
      ]
    },
    {
      "cell_type": "markdown",
      "metadata": {
        "id": "0S7KaqoYCCwx"
      },
      "source": [
        "### Instalando e Carregando Pacotes"
      ]
    },
    {
      "cell_type": "code",
      "execution_count": null,
      "metadata": {
        "id": "YOeLECqSCCw0"
      },
      "outputs": [],
      "source": [
        "# Para atualizar um pacote, execute o comando abaixo no terminal ou prompt de comando:\n",
        "# pip install -U nome_pacote\n",
        "\n",
        "# Para instalar a versão exata de um pacote, execute o comando abaixo no terminal ou prompt de comando:\n",
        "# !pip install nome_pacote==versão_desejada\n",
        "\n",
        "# Depois de instalar ou atualizar o pacote, reinicie o jupyter notebook.\n",
        "\n",
        "# Instala o pacote watermark.\n",
        "# Esse pacote é usado para gravar as versões de outros pacotes usados neste jupyter notebook.\n",
        "!pip install -q -U watermark"
      ]
    },
    {
      "cell_type": "code",
      "execution_count": null,
      "metadata": {
        "id": "3VIbXgwsCCw3"
      },
      "outputs": [],
      "source": [
        "# Imports\n",
        "import math\n",
        "import numpy as np"
      ]
    },
    {
      "cell_type": "code",
      "execution_count": null,
      "metadata": {
        "id": "JxA9YAXWCCw6",
        "outputId": "cf7a5827-ab05-4dd4-917c-035808f484a5"
      },
      "outputs": [
        {
          "name": "stdout",
          "output_type": "stream",
          "text": [
            "Author: Data Science Academy\n",
            "\n"
          ]
        }
      ],
      "source": [
        "# Versões dos pacotes usados neste jupyter notebook\n",
        "%reload_ext watermark\n",
        "%watermark -a \"Data Science Academy\""
      ]
    },
    {
      "cell_type": "markdown",
      "metadata": {
        "id": "8YTdVePkCCw8"
      },
      "source": [
        "## Regras Básicas da Álgebra"
      ]
    },
    {
      "cell_type": "markdown",
      "metadata": {
        "id": "cjni8wpICCxA"
      },
      "source": [
        "> Propriedades da Igualdade"
      ]
    },
    {
      "cell_type": "code",
      "execution_count": null,
      "metadata": {
        "id": "UVprk0dZCCxE",
        "outputId": "115d4d02-e186-45df-fdb2-cbb504b397ea"
      },
      "outputs": [
        {
          "name": "stdout",
          "output_type": "stream",
          "text": [
            "True\n"
          ]
        }
      ],
      "source": [
        "# Reflexiva\n",
        "# Qualquer número ou expressão é igual a si mesmo\n",
        "a = 5\n",
        "print(a == a)  # True"
      ]
    },
    {
      "cell_type": "code",
      "execution_count": null,
      "metadata": {
        "id": "kIK9sGxiCCxG",
        "outputId": "51a50355-c922-4c34-ce25-39da16fa0d9c"
      },
      "outputs": [
        {
          "name": "stdout",
          "output_type": "stream",
          "text": [
            "True\n",
            "True\n"
          ]
        }
      ],
      "source": [
        "# Simétrica\n",
        "a = 5\n",
        "b = 5\n",
        "print(a == b)  # True\n",
        "print(b == a)  # True"
      ]
    },
    {
      "cell_type": "code",
      "execution_count": null,
      "metadata": {
        "id": "4UEA4X-_CCxI",
        "outputId": "64abb1f4-b1d4-4681-f2fe-efe97d57dc89"
      },
      "outputs": [
        {
          "name": "stdout",
          "output_type": "stream",
          "text": [
            "True\n",
            "True\n"
          ]
        }
      ],
      "source": [
        "# Transitiva\n",
        "a = 5\n",
        "b = 5\n",
        "c = 5\n",
        "print(a == b and b == c)  # True\n",
        "print(a == c)  # True"
      ]
    },
    {
      "cell_type": "markdown",
      "metadata": {
        "id": "Yl7mJAOCCCxJ"
      },
      "source": [
        "> Propriedades das Operações"
      ]
    },
    {
      "cell_type": "code",
      "execution_count": null,
      "metadata": {
        "id": "eaJwGsvNCCxK",
        "outputId": "45bd41c4-7b1a-4ba2-e5e3-d9f47b826641"
      },
      "outputs": [
        {
          "name": "stdout",
          "output_type": "stream",
          "text": [
            "True\n",
            "True\n"
          ]
        }
      ],
      "source": [
        "# Comutativa (Adição e Multiplicação)\n",
        "# A ordem dos números não afeta a soma ou o produto\n",
        "a = 3\n",
        "b = 4\n",
        "print(a + b == b + a)  # True\n",
        "print(a * b == b * a)  # True"
      ]
    },
    {
      "cell_type": "code",
      "execution_count": null,
      "metadata": {
        "id": "WFxlAqvhCCxL",
        "outputId": "bb01e522-3751-47db-8b63-ed982e83aa0f"
      },
      "outputs": [
        {
          "name": "stdout",
          "output_type": "stream",
          "text": [
            "True\n",
            "True\n"
          ]
        }
      ],
      "source": [
        "# Associativa (Adição e Multiplicação)\n",
        "# A maneira como os números são agrupados não afeta a soma ou o produto\n",
        "a = 3\n",
        "b = 4\n",
        "c = 5\n",
        "print((a + b) + c == a + (b + c))  # True\n",
        "print((a * b) * c == a * (b * c))  # True"
      ]
    },
    {
      "cell_type": "code",
      "execution_count": null,
      "metadata": {
        "id": "1wLDXrW2CCxN",
        "outputId": "58480f60-c2df-4d59-998d-84b2d1621e05"
      },
      "outputs": [
        {
          "name": "stdout",
          "output_type": "stream",
          "text": [
            "True\n"
          ]
        }
      ],
      "source": [
        "# Distributiva\n",
        "a = 3\n",
        "b = 4\n",
        "c = 5\n",
        "print(a * (b + c) == a * b + a * c)  # True"
      ]
    },
    {
      "cell_type": "markdown",
      "metadata": {
        "id": "0fxWQP4pCCxP"
      },
      "source": [
        "> Elementos Neutros e Inversos"
      ]
    },
    {
      "cell_type": "code",
      "execution_count": null,
      "metadata": {
        "id": "sATbUh11CCxP",
        "outputId": "b2e397f5-8acb-47f9-d6c6-34a6c41d0fa7"
      },
      "outputs": [
        {
          "name": "stdout",
          "output_type": "stream",
          "text": [
            "True\n"
          ]
        }
      ],
      "source": [
        "# Elemento Neutro da Adição (0)\n",
        "a = 7\n",
        "print(a + 0 == a)  # True"
      ]
    },
    {
      "cell_type": "code",
      "execution_count": null,
      "metadata": {
        "id": "I0ZTJ-eVCCxQ",
        "outputId": "ca771ffa-66c1-47eb-b001-8fc5aae3b6c1"
      },
      "outputs": [
        {
          "name": "stdout",
          "output_type": "stream",
          "text": [
            "True\n"
          ]
        }
      ],
      "source": [
        "# Elemento Neutro da Multiplicação (1)\n",
        "a = 7\n",
        "print(a * 1 == a)  # True"
      ]
    },
    {
      "cell_type": "code",
      "execution_count": null,
      "metadata": {
        "id": "393NBDeWCCxR",
        "outputId": "8af89cd7-8479-4eda-f235-b3597778abd6"
      },
      "outputs": [
        {
          "name": "stdout",
          "output_type": "stream",
          "text": [
            "True\n"
          ]
        }
      ],
      "source": [
        "# Inverso Aditivo\n",
        "a = 7\n",
        "print(a + (-a) == 0)  # True"
      ]
    },
    {
      "cell_type": "code",
      "execution_count": null,
      "metadata": {
        "id": "Xn7SP20MCCxS",
        "outputId": "cfe3e065-ee13-441e-8525-68cb15019e40"
      },
      "outputs": [
        {
          "name": "stdout",
          "output_type": "stream",
          "text": [
            "True\n"
          ]
        }
      ],
      "source": [
        "# Inverso Multiplicativo\n",
        "a = 7\n",
        "print(a * (1/a) == 1)  # True"
      ]
    },
    {
      "cell_type": "markdown",
      "metadata": {
        "id": "u1b7a5W6CCxU"
      },
      "source": [
        "> Regras de Exponenciação"
      ]
    },
    {
      "cell_type": "code",
      "execution_count": null,
      "metadata": {
        "id": "kwYaJIXfCCxU",
        "outputId": "493b652e-f8e7-4580-d4ec-91e01abb8395"
      },
      "outputs": [
        {
          "name": "stdout",
          "output_type": "stream",
          "text": [
            "True\n"
          ]
        }
      ],
      "source": [
        "# Produto de Mesma Base\n",
        "print(2**3 * 2**4 == 2**(3+4))  # True"
      ]
    },
    {
      "cell_type": "code",
      "execution_count": null,
      "metadata": {
        "id": "fg_etGraCCxV",
        "outputId": "f0a30ca8-cde4-4ea6-b124-32f010a9c115"
      },
      "outputs": [
        {
          "name": "stdout",
          "output_type": "stream",
          "text": [
            "True\n"
          ]
        }
      ],
      "source": [
        "# Divisão de Mesma Base\n",
        "print(2**5 / 2**2 == 2**(5-2))  # True"
      ]
    },
    {
      "cell_type": "code",
      "execution_count": null,
      "metadata": {
        "id": "6DqWC6cfCCxX",
        "outputId": "6ffb876d-2c6a-4c70-85d1-59c9ac483af6"
      },
      "outputs": [
        {
          "name": "stdout",
          "output_type": "stream",
          "text": [
            "True\n"
          ]
        }
      ],
      "source": [
        "# Potência de uma Potência\n",
        "print((2**3)**2 == 2**(3*2))  # True"
      ]
    },
    {
      "cell_type": "code",
      "execution_count": null,
      "metadata": {
        "id": "OEr2ZHDdCCxY",
        "outputId": "238d8e09-2e45-46cc-ed6c-7a9c2d6999ad"
      },
      "outputs": [
        {
          "name": "stdout",
          "output_type": "stream",
          "text": [
            "True\n"
          ]
        }
      ],
      "source": [
        "# Potência de um Produto\n",
        "print((2*3)**2 == 2**2 * 3**2)  # True"
      ]
    },
    {
      "cell_type": "code",
      "execution_count": null,
      "metadata": {
        "id": "H_7kIDBCCCxZ",
        "outputId": "53b5a69c-8966-43c1-aae8-976ff45a0b74"
      },
      "outputs": [
        {
          "name": "stdout",
          "output_type": "stream",
          "text": [
            "True\n"
          ]
        }
      ],
      "source": [
        "# Exponencial Zero\n",
        "print(2**0 == 1)  # True"
      ]
    },
    {
      "cell_type": "markdown",
      "metadata": {
        "id": "A4BrlIvWCCxZ"
      },
      "source": [
        "> Regras de Radicais"
      ]
    },
    {
      "cell_type": "code",
      "execution_count": null,
      "metadata": {
        "id": "C7QW7ZO0CCxa",
        "outputId": "c547337a-74f6-4c5a-f5e8-02c271f8aefc"
      },
      "outputs": [
        {
          "name": "stdout",
          "output_type": "stream",
          "text": [
            "False\n"
          ]
        }
      ],
      "source": [
        "# Raiz de um Produto ** ATENÇÃO AO CÁLCULO DE PONTO FLUTUANTE **\n",
        "print(math.sqrt(2*8) == math.sqrt(2) * math.sqrt(8))  # True"
      ]
    },
    {
      "cell_type": "code",
      "execution_count": null,
      "metadata": {
        "id": "z97K-BbBCCxb",
        "outputId": "3adfb748-8a25-4f2b-dec5-e2b750ebacde"
      },
      "outputs": [
        {
          "name": "stdout",
          "output_type": "stream",
          "text": [
            "True\n"
          ]
        }
      ],
      "source": [
        "# Vamos adicionar tolerância ao cálculo (afinal, o mundo precisa mesmo de mais tolerância! :-)\n",
        "a = math.sqrt(2*8)\n",
        "b = math.sqrt(2) * math.sqrt(8)\n",
        "tolerance = 1e-10\n",
        "\n",
        "print(abs(a - b) < tolerance)  # Deve retornar True"
      ]
    },
    {
      "cell_type": "code",
      "execution_count": null,
      "metadata": {
        "id": "Eo5xm9FZCCxb",
        "outputId": "15b8fa43-f091-4869-8247-43cadab0d3d9"
      },
      "outputs": [
        {
          "name": "stdout",
          "output_type": "stream",
          "text": [
            "True\n"
          ]
        }
      ],
      "source": [
        "# Raiz de um Quociente\n",
        "print(math.sqrt(16/4) == math.sqrt(16) / math.sqrt(4))  # True"
      ]
    },
    {
      "cell_type": "markdown",
      "metadata": {
        "id": "czb4D_twCCxc"
      },
      "source": [
        "> Regras de Polinômios (Adição e Subtração de Termos Semelhantes)"
      ]
    },
    {
      "cell_type": "code",
      "execution_count": null,
      "metadata": {
        "id": "-3HP3VI4CCxc",
        "outputId": "97af34d0-9a68-466b-9ad0-ac225de599db"
      },
      "outputs": [
        {
          "name": "stdout",
          "output_type": "stream",
          "text": [
            "27\n"
          ]
        }
      ],
      "source": [
        "# Regras de Polinômios (Adição e Subtração de Termos Semelhantes):\n",
        "\n",
        "# Polinômios: 2x^2 + 3x + 4 e 3x^2 - 2x + 1\n",
        "# Adição: (2x^2 + 3x^2) + (3x - 2x) + (4 + 1)\n",
        "\n",
        "# Variável\n",
        "x = 2\n",
        "\n",
        "# Calcula a adição dos polinômios\n",
        "print((2*x**2 + 3*x**2) + (3*x - 2*x) + (4 + 1))"
      ]
    },
    {
      "cell_type": "markdown",
      "metadata": {
        "id": "P7m5OYvoCCxd"
      },
      "source": [
        "> Regras de Frações"
      ]
    },
    {
      "cell_type": "code",
      "execution_count": null,
      "metadata": {
        "id": "rZm2V7ihCCxe",
        "outputId": "49f392ed-9052-4bd6-9b80-5e875cbc2ce8"
      },
      "outputs": [
        {
          "name": "stdout",
          "output_type": "stream",
          "text": [
            "0.375\n"
          ]
        }
      ],
      "source": [
        "# Multiplicação\n",
        "# Frações: (1/2) * (3/4)\n",
        "print((1/2) * (3/4))  # 0.375"
      ]
    },
    {
      "cell_type": "code",
      "execution_count": null,
      "metadata": {
        "id": "k2MoHDh7CCxe",
        "outputId": "b20bfabc-54da-4f78-ac43-d1d20a57489c"
      },
      "outputs": [
        {
          "name": "stdout",
          "output_type": "stream",
          "text": [
            "0.6666666666666666\n"
          ]
        }
      ],
      "source": [
        "# Divisão\n",
        "# Frações: (1/2) / (3/4) = (1/2) * (4/3)\n",
        "print((1/2) / (3/4))  # 0.666..."
      ]
    },
    {
      "cell_type": "code",
      "execution_count": null,
      "metadata": {
        "id": "9yzPvliRCCxf",
        "outputId": "185cc430-23b3-4b49-a6f1-444f6f389707"
      },
      "outputs": [
        {
          "name": "stdout",
          "output_type": "stream",
          "text": [
            "1.0\n"
          ]
        }
      ],
      "source": [
        "# Soma e Subtração com Denominador Comum:\n",
        "# Frações: (1/4) + (3/4)\n",
        "print((1/4) + (3/4))  # 1.0"
      ]
    },
    {
      "cell_type": "markdown",
      "metadata": {
        "id": "94hy7BviCCxh"
      },
      "source": [
        "## Operações com Vetores - Adição e Subtração"
      ]
    },
    {
      "cell_type": "code",
      "execution_count": null,
      "metadata": {
        "id": "3ClDp7EKCCxh"
      },
      "outputs": [],
      "source": [
        "# Definindo dois vetores como listas\n",
        "vetor_a = [3, 4, 5]\n",
        "vetor_b = [1, 2, 3]"
      ]
    },
    {
      "cell_type": "code",
      "execution_count": null,
      "metadata": {
        "id": "IBFN0IfYCCxi"
      },
      "outputs": [],
      "source": [
        "# Função para adição de vetores\n",
        "def adicionar_vetores(a, b):\n",
        "    return [a[i] + b[i] for i in range(len(a))]"
      ]
    },
    {
      "cell_type": "code",
      "execution_count": null,
      "metadata": {
        "id": "ylkCw2iTCCxi"
      },
      "outputs": [],
      "source": [
        "# Função para subtração de vetores\n",
        "def subtrair_vetores(a, b):\n",
        "    return [a[i] - b[i] for i in range(len(a))]"
      ]
    },
    {
      "cell_type": "code",
      "execution_count": null,
      "metadata": {
        "id": "Ek2Y-rTNCCxv"
      },
      "outputs": [],
      "source": [
        "# Realizando as operações\n",
        "vetor_soma = adicionar_vetores(vetor_a, vetor_b)\n",
        "vetor_diferenca = subtrair_vetores(vetor_a, vetor_b)"
      ]
    },
    {
      "cell_type": "code",
      "execution_count": null,
      "metadata": {
        "id": "6ptNyNyiCCxv",
        "outputId": "5b38d590-0542-4263-8f4d-d56b549d25c8"
      },
      "outputs": [
        {
          "name": "stdout",
          "output_type": "stream",
          "text": [
            "Vetor A: [3, 4, 5]\n",
            "Vetor B: [1, 2, 3]\n",
            "Soma dos Vetores: [4, 6, 8]\n",
            "Diferença dos Vetores: [2, 2, 2]\n"
          ]
        }
      ],
      "source": [
        "# Mostrando os resultados\n",
        "print(\"Vetor A:\", vetor_a)\n",
        "print(\"Vetor B:\", vetor_b)\n",
        "print(\"Soma dos Vetores:\", vetor_soma)\n",
        "print(\"Diferença dos Vetores:\", vetor_diferenca)"
      ]
    },
    {
      "cell_type": "markdown",
      "metadata": {
        "id": "LxQFWhacCCxw"
      },
      "source": [
        "## Operações com Vetores - Cross Product (Produto Vetorial)\n",
        "\n",
        "O produto vetorial entre dois vetores resulta em um terceiro vetor que é perpendicular aos dois vetores originais."
      ]
    },
    {
      "cell_type": "code",
      "execution_count": null,
      "metadata": {
        "id": "s8NlulZyCCxy"
      },
      "outputs": [],
      "source": [
        "# Função para calcular o produto vetorial entre 2 vetores\n",
        "def produto_vetorial(v1, v2):\n",
        "    x = v1[1] * v2[2] - v1[2] * v2[1]\n",
        "    y = v1[2] * v2[0] - v1[0] * v2[2]\n",
        "    z = v1[0] * v2[1] - v1[1] * v2[0]\n",
        "    return [x, y, z]"
      ]
    },
    {
      "cell_type": "code",
      "execution_count": null,
      "metadata": {
        "id": "1WcYYF3lCCxz"
      },
      "outputs": [],
      "source": [
        "# Cria os vetores\n",
        "vetor_a = [2, -3, 1]\n",
        "vetor_b = [5, 7, 6]"
      ]
    },
    {
      "cell_type": "code",
      "execution_count": null,
      "metadata": {
        "id": "GSHBZiTTCCx0",
        "outputId": "7bcf4d63-efd6-45b9-d0c1-52cfdb58ea72"
      },
      "outputs": [
        {
          "name": "stdout",
          "output_type": "stream",
          "text": [
            "Produto Vetorial: [-25, -7, 29]\n"
          ]
        }
      ],
      "source": [
        "# Calculando o produto vetorial\n",
        "resultado = produto_vetorial(vetor_a, vetor_b)\n",
        "print(\"Produto Vetorial:\", resultado)"
      ]
    },
    {
      "cell_type": "markdown",
      "metadata": {
        "id": "FQjs83teCCx2"
      },
      "source": [
        "https://www.wolframalpha.com/input/?i=cross+product+calculator\n",
        "\n",
        "https://www.mathsisfun.com/algebra/vectors-cross-product.html"
      ]
    },
    {
      "cell_type": "markdown",
      "metadata": {
        "id": "MmKdbSE8CCx3"
      },
      "source": [
        "## Operações com Vetores - Dot Product (Produto Escalar)\n",
        "\n",
        "O produto escalar de dois vetores é uma operação que resulta em um escalar (um número). Matematicamente, é a soma dos produtos dos componentes correspondentes dos vetores."
      ]
    },
    {
      "cell_type": "code",
      "execution_count": null,
      "metadata": {
        "id": "J7vGWiQBCCx3"
      },
      "outputs": [],
      "source": [
        "# Função para calcular o produto escalar\n",
        "def produto_escalar(v1, v2):\n",
        "    return sum(a * b for a, b in zip(v1, v2))"
      ]
    },
    {
      "cell_type": "code",
      "execution_count": null,
      "metadata": {
        "id": "2P-oAt0KCCx4"
      },
      "outputs": [],
      "source": [
        "# Cria os vetores\n",
        "vetor_a = [2, -3, 1]\n",
        "vetor_b = [5, 7, 6]"
      ]
    },
    {
      "cell_type": "code",
      "execution_count": null,
      "metadata": {
        "id": "6obwXWZ-CCx5",
        "outputId": "d6b70df9-3217-4898-fd8f-406d33cdf47e"
      },
      "outputs": [
        {
          "name": "stdout",
          "output_type": "stream",
          "text": [
            "Produto Escalar: -5\n"
          ]
        }
      ],
      "source": [
        "# Calculando o produto escalar\n",
        "resultado = produto_escalar(vetor_a, vetor_b)\n",
        "print(\"Produto Escalar:\", resultado)"
      ]
    },
    {
      "cell_type": "markdown",
      "metadata": {
        "id": "HXww6GgmCCx5"
      },
      "source": [
        "https://www.wolframalpha.com/input?i=dot+product\n",
        "\n",
        "https://www.mathsisfun.com/algebra/vectors-dot-product.html"
      ]
    },
    {
      "cell_type": "markdown",
      "metadata": {
        "id": "Jh5-F3mhCCx6"
      },
      "source": [
        "<!-- Projeto Desenvolvido na Data Science Academy - www.datascienceacademy.com.br -->\n",
        "\n",
        "## Machine Learning Apenas com Operações Matemáticas (Sem Uso de Frameworks)\n",
        "\n",
        "Vamos criar um modelo capaz de prever o preço de um ativo financeiro com base na taxa nominal de juros."
      ]
    },
    {
      "cell_type": "code",
      "execution_count": null,
      "metadata": {
        "id": "QOvvub6ECCx6"
      },
      "outputs": [],
      "source": [
        "# Gerando dados sintéticos\n",
        "np.random.seed(0)\n",
        "X = np.random.randint(1, 10, size = (100, 1))  # 100 instâncias, valores entre 1 e 10\n",
        "y = 50000 + 30000 * X + np.random.randn(100, 1) * 15000  # Relação linear: preço base + preço por ativo + ruído"
      ]
    },
    {
      "cell_type": "code",
      "execution_count": null,
      "metadata": {
        "id": "gGU0oHIJCCx7",
        "outputId": "36ab09c3-762d-4d82-8258-f2db92389049"
      },
      "outputs": [
        {
          "data": {
            "text/plain": [
              "array([[1],\n",
              "       [4],\n",
              "       [4],\n",
              "       [8]])"
            ]
          },
          "execution_count": 38,
          "metadata": {},
          "output_type": "execute_result"
        }
      ],
      "source": [
        "# Visualizando alguns registros\n",
        "X[1:5]"
      ]
    },
    {
      "cell_type": "code",
      "execution_count": null,
      "metadata": {
        "id": "C7CpIjtUCCx8",
        "outputId": "7d58d59b-ee0b-4f9a-b8e6-3b3798208157"
      },
      "outputs": [
        {
          "data": {
            "text/plain": [
              "array([[ 85385.04146705],\n",
              "       [186141.81556278],\n",
              "       [172882.11251578],\n",
              "       [302793.88936252]])"
            ]
          },
          "execution_count": 39,
          "metadata": {},
          "output_type": "execute_result"
        }
      ],
      "source": [
        "# Visualizando alguns registros\n",
        "y[1:5]"
      ]
    },
    {
      "cell_type": "code",
      "execution_count": null,
      "metadata": {
        "id": "JPRMupnSCCx8"
      },
      "outputs": [],
      "source": [
        "# Adicionar coluna de uns para o termo de interceptação\n",
        "X_b = np.c_[np.ones((100, 1)), X]  # Adiciona x0 = 1 a cada instância"
      ]
    },
    {
      "cell_type": "markdown",
      "metadata": {
        "id": "qGSldCumCCx9"
      },
      "source": [
        "### Função de Custo MSE com Operações Entre Vetores\n",
        "\n",
        "Esta função dsa_func_custo é uma implementação da função de custo de erro quadrático médio, que é amplamente usada em regressão linear. O objetivo dessa função é medir quão bem o modelo de regressão (representado pelos parâmetros theta) está desempenhando em relação ao conjunto de dados (X e y). Um custo mais baixo indica que o modelo está fazendo previsões mais precisas."
      ]
    },
    {
      "cell_type": "code",
      "execution_count": null,
      "metadata": {
        "id": "yFaVYB1OCCx9"
      },
      "outputs": [],
      "source": [
        "# Função de Custo MSE com Operações Entre Vetores\n",
        "def dsa_func_custo(X, y, theta):\n",
        "\n",
        "    # m é o número de exemplos de treinamento (observações) no conjunto de dados\n",
        "    m = len(y)\n",
        "\n",
        "    # Calcula a função de custo para a regressão linear\n",
        "    # A função de custo é a média dos erros quadrados entre as previsões e os valores reais\n",
        "    # (1/(2*m)) é um fator de escala comum na função de custo do erro quadrático médio\n",
        "    # np.sum(np.square(X.dot(theta) - y)) é a soma dos quadrados dos erros\n",
        "    # X.dot(theta) é o produto escalar de X (dados de entrada) e theta (parâmetros do modelo)\n",
        "    # X.dot(theta) - y é a diferença entre as previsões e os valores reais\n",
        "    cost = (1/(2*m)) * np.sum(np.square(X.dot(theta) - y))\n",
        "\n",
        "    # Retorna o custo calculado\n",
        "    return cost"
      ]
    },
    {
      "cell_type": "markdown",
      "metadata": {
        "id": "DwcVdxvzCCx_"
      },
      "source": [
        "### Algoritmo Gradiente Descendente com Operações Entre Vetores"
      ]
    },
    {
      "cell_type": "code",
      "execution_count": null,
      "metadata": {
        "id": "HdXazzE6CCyA"
      },
      "outputs": [],
      "source": [
        "# Gradiente descendente\n",
        "def dsa_gradient_descent(X, y, theta, learning_rate, iterations):\n",
        "\n",
        "    # m é o número de exemplos de treinamento no conjunto de dados\n",
        "    m = len(y)\n",
        "\n",
        "    # Inicializa um array para armazenar o histórico de custo em cada iteração\n",
        "    cost_history = np.zeros(iterations)\n",
        "\n",
        "    # Loop para realizar o número especificado de iterações\n",
        "    for i in range(iterations):\n",
        "\n",
        "        # Calcula o gradiente da função de custo em relação a theta\n",
        "        # O gradiente é a média dos produtos dos erros e as características de entrada\n",
        "        gradients = 1/m * X.T.dot(X.dot(theta) - y)\n",
        "\n",
        "        # Atualiza os parâmetros theta subtraindo o produto da taxa de aprendizado e o gradiente\n",
        "        # Esta é a etapa de descida do gradiente, movendo-se em direção ao mínimo da função de custo\n",
        "        theta = theta - learning_rate * gradients\n",
        "\n",
        "        # Calcula o custo com o theta atualizado e armazena no histórico de custo\n",
        "        cost_history[i] = dsa_func_custo(X, y, theta)\n",
        "\n",
        "    # Retorna os parâmetros theta otimizados e o histórico de custo\n",
        "    return theta, cost_history"
      ]
    },
    {
      "cell_type": "markdown",
      "metadata": {
        "id": "vgHkyx9qCCyB"
      },
      "source": [
        "### Treinamento do Modelo"
      ]
    },
    {
      "cell_type": "code",
      "execution_count": null,
      "metadata": {
        "id": "4lkFMhi8CCyC"
      },
      "outputs": [],
      "source": [
        "# Parâmetros iniciais\n",
        "\n",
        "# Inicializa os parâmetros randomicamente\n",
        "theta = np.random.randn(2, 1)\n",
        "\n",
        "# Taxa de aprendizado\n",
        "learning_rate = 0.01\n",
        "\n",
        "# Número de passadas de treino\n",
        "iterations = 1000"
      ]
    },
    {
      "cell_type": "code",
      "execution_count": null,
      "metadata": {
        "id": "m6RGCNCECCyD"
      },
      "outputs": [],
      "source": [
        "# Treinando o modelo\n",
        "theta_final, cost_history = dsa_gradient_descent(X_b, y, theta, learning_rate, iterations)"
      ]
    },
    {
      "cell_type": "code",
      "execution_count": null,
      "metadata": {
        "id": "KLaF_FbNCCyD",
        "outputId": "9dba93b0-9997-475c-baa7-e32082b5aaf2"
      },
      "outputs": [
        {
          "name": "stdout",
          "output_type": "stream",
          "text": [
            "Modelo de Machine Learning - Parâmetros Finais:\n",
            " [[44287.25556464]\n",
            " [31108.64267429]]\n"
          ]
        }
      ],
      "source": [
        "print(\"Modelo de Machine Learning - Parâmetros Finais:\\n\", theta_final)"
      ]
    },
    {
      "cell_type": "markdown",
      "metadata": {
        "id": "Sh4OoW_fCCyE"
      },
      "source": [
        "### Deploy e Previsão com Novos Dados"
      ]
    },
    {
      "cell_type": "code",
      "execution_count": null,
      "metadata": {
        "id": "1sOk_pR_CCyF"
      },
      "outputs": [],
      "source": [
        "# Novo valor de X\n",
        "X_new = np.array([[4.5]])"
      ]
    },
    {
      "cell_type": "code",
      "execution_count": null,
      "metadata": {
        "id": "9x8jk6t_CCyG"
      },
      "outputs": [],
      "source": [
        "# Novo valor do bias\n",
        "X_new_b = np.c_[np.ones((1, 1)), X_new]"
      ]
    },
    {
      "cell_type": "code",
      "execution_count": null,
      "metadata": {
        "id": "55tc6qGwCCyI"
      },
      "outputs": [],
      "source": [
        "# Previsão\n",
        "y_predict = X_new_b.dot(theta_final)"
      ]
    },
    {
      "cell_type": "code",
      "execution_count": null,
      "metadata": {
        "id": "t7Gm5NXQCCyJ",
        "outputId": "3c07a9d5-d5df-4fd4-feb5-47306b9cb743"
      },
      "outputs": [
        {
          "name": "stdout",
          "output_type": "stream",
          "text": [
            "Com base na taxa de juros nominal, esta é a previsão do preço do ativo: [[184276.15]]\n"
          ]
        }
      ],
      "source": [
        "print(\"Com base na taxa de juros nominal, esta é a previsão do preço do ativo:\", np.round(y_predict, 2))"
      ]
    },
    {
      "cell_type": "code",
      "execution_count": null,
      "metadata": {
        "id": "Ha3ucJgvCCyK",
        "outputId": "2532b37b-f3eb-4382-f1d9-c8e91238dcd0"
      },
      "outputs": [
        {
          "name": "stdout",
          "output_type": "stream",
          "text": [
            "Author: Data Science Academy\n",
            "\n"
          ]
        }
      ],
      "source": [
        "%reload_ext watermark\n",
        "%watermark -a \"Data Science Academy\""
      ]
    },
    {
      "cell_type": "code",
      "execution_count": null,
      "metadata": {
        "id": "6eNnk7NgCCyK"
      },
      "outputs": [],
      "source": [
        "#%watermark -v -m"
      ]
    },
    {
      "cell_type": "code",
      "execution_count": null,
      "metadata": {
        "id": "VWQH6zWCCCyL"
      },
      "outputs": [],
      "source": [
        "#%watermark --iversions"
      ]
    },
    {
      "cell_type": "markdown",
      "metadata": {
        "id": "ELvbb2pwCCyM"
      },
      "source": [
        "# Fim"
      ]
    },
    {
      "cell_type": "markdown",
      "source": [
        "# Resolução dos exercícios"
      ],
      "metadata": {
        "id": "g0DrFso4HCw7"
      }
    },
    {
      "cell_type": "markdown",
      "source": [
        "### Soma de vetores <b>\n",
        "\n",
        "Escreva  uma  função  em  Python  que  some  dois  vetores.  Suponha  que  os vetores  têm  o  mesmo  tamanho.  Resolva  o  exercício  de  forma  diferente  do  que  foi mostrado nas aulas."
      ],
      "metadata": {
        "id": "If_PXmQqHHe4"
      }
    },
    {
      "cell_type": "code",
      "source": [
        "import random\n",
        "\n",
        "tamanho = int(input())\n",
        "\n",
        "# Gerar duas listas de valores aleatórios do mesmo tamanho\n",
        "vector_1 = [random.randint(0, 100) for _ in range(tamanho)]\n",
        "vector_2 = [random.randint(0, 100) for _ in range(tamanho)]\n",
        "\n",
        "# Calcular a soma dos elementos correspondentes\n",
        "vector_soma = [vector_1[i] + vector_2[i] for i in range(tamanho)]\n",
        "\n",
        "print(vector_1, vector_2, vector_soma)"
      ],
      "metadata": {
        "colab": {
          "base_uri": "https://localhost:8080/"
        },
        "id": "Epr40xX4C4mN",
        "outputId": "f4ce1a7f-166c-4612-f98e-ae26e6687201"
      },
      "execution_count": 12,
      "outputs": [
        {
          "output_type": "stream",
          "name": "stdout",
          "text": [
            "3\n",
            "[71, 78, 14] [50, 27, 84] [121, 105, 98]\n"
          ]
        }
      ]
    },
    {
      "cell_type": "markdown",
      "source": [
        "### Produto escalar\n",
        "\n",
        "Implemente  uma  função  que  calcule  o  produto  escalar  entre  dois  vetores."
      ],
      "metadata": {
        "id": "6_Zgd4uqHPoN"
      }
    },
    {
      "cell_type": "code",
      "source": [
        "import random\n",
        "\n",
        "tamanho = int(input())\n",
        "\n",
        "# Gerar duas listas de valores aleatórios do mesmo tamanho\n",
        "vector_1 = [random.randint(0, 100) for _ in range(tamanho)]\n",
        "vector_2 = [random.randint(0, 100) for _ in range(tamanho)]\n",
        "\n",
        "# Calcular a soma dos elementos correspondentes\n",
        "vector_multiply = [vector_1[i] * vector_2[i] for i in range(tamanho)]\n",
        "\n",
        "dot_prod = sum(vector_multiply)\n",
        "\n",
        "print(vector_1, vector_2, vector_multiply, dot_prod)"
      ],
      "metadata": {
        "colab": {
          "base_uri": "https://localhost:8080/"
        },
        "id": "hhgMj1pLHZyp",
        "outputId": "0df1addd-177f-4526-e53a-a6bd920496f2"
      },
      "execution_count": 45,
      "outputs": [
        {
          "output_type": "stream",
          "name": "stdout",
          "text": [
            "2\n",
            "[89, 16] [21, 44] [1869, 704] 2573\n"
          ]
        }
      ]
    },
    {
      "cell_type": "markdown",
      "source": [
        "### Norma de um vetor\n",
        "\n",
        "Escreva uma função que calcule a norma (ou comprimento) de um vetor"
      ],
      "metadata": {
        "id": "qp_6S6VxJkON"
      }
    },
    {
      "cell_type": "code",
      "source": [
        "import numpy as np\n",
        "\n",
        "tamanho = int(input())\n",
        "\n",
        "vector = [random.randint(0, 100) for _ in range(tamanho)]\n",
        "\n",
        "magnitude = np.sqrt(sum(vector[i] ** 2 for i in range(tamanho)))\n",
        "\n",
        "print(tamanho, vector, magnitude)"
      ],
      "metadata": {
        "colab": {
          "base_uri": "https://localhost:8080/"
        },
        "id": "c8-96H2RJjen",
        "outputId": "7349876e-a3dd-4ce8-a784-c62309e54a58"
      },
      "execution_count": 47,
      "outputs": [
        {
          "output_type": "stream",
          "name": "stdout",
          "text": [
            "2\n",
            "2 [76, 35] 83.6719785830358\n"
          ]
        }
      ]
    },
    {
      "cell_type": "markdown",
      "source": [
        "### Ângulo entre dois vetores\n",
        "\n",
        "Implemente uma função que calcule o ângulo (em graus) entre dois vetores"
      ],
      "metadata": {
        "id": "6mpfShvtTInd"
      }
    },
    {
      "cell_type": "code",
      "source": [
        "import random\n",
        "\n",
        "import math\n",
        "\n",
        "tamanho = int(input())\n",
        "\n",
        "# Gerar duas listas de valores aleatórios do mesmo tamanho\n",
        "vector_1 = [random.randint(0, 100) for _ in range(tamanho)]\n",
        "\n",
        "vector_2 = [random.randint(0, 100) for _ in range(tamanho)]\n",
        "\n",
        "# Calcular a soma dos elementos correspondentes\n",
        "vector_multiply = [vector_1[i] * vector_2[i] for i in range(tamanho)]\n",
        "\n",
        "dot_prod = sum(vector_multiply)\n",
        "\n",
        "magnitude_1 = np.sqrt(sum(vector_1[i] ** 2 for i in range(tamanho)))\n",
        "\n",
        "magnitude_2 = np.sqrt(sum(vector_2[i] ** 2 for i in range(tamanho)))\n",
        "\n",
        "cos = dot_prod / (magnitude_1 * magnitude_2)\n",
        "\n",
        "angle = math.degrees(np.arccos(cos))\n",
        "\n",
        "print(vector_1, vector_2, vector_multiply, dot_prod, magnitude_1, magnitude_2, cos, angle)"
      ],
      "metadata": {
        "colab": {
          "base_uri": "https://localhost:8080/"
        },
        "id": "JpfCu4YWWgeE",
        "outputId": "76f599b7-7506-4203-d4e9-a6c8ad140026"
      },
      "execution_count": 49,
      "outputs": [
        {
          "output_type": "stream",
          "name": "stdout",
          "text": [
            "2\n",
            "[20, 98] [32, 5] [640, 490] 1130 100.0199980003999 32.38826948140329 0.34882199199500363 69.58472019583505\n"
          ]
        }
      ]
    },
    {
      "cell_type": "markdown",
      "source": [
        "### Projeção de um vetor sobre o outro\n",
        "\n",
        "Escreva uma função que encontre a projeção de um vetor sobre o outro"
      ],
      "metadata": {
        "id": "VG1trO0kUzxS"
      }
    },
    {
      "cell_type": "code",
      "source": [
        "# Solução\n",
        "def projetar_vetor(vetor_a, vetor_b):\n",
        "    \"\"\"\n",
        "    Calcula a projeção do vetor_a sobre o vetor_b.\n",
        "\n",
        "    Args:\n",
        "    vetor_a (list): Vetor a ser projetado.\n",
        "    vetor_b (list): Vetor sobre o qual o vetor_a será projetado.\n",
        "\n",
        "    Returns:\n",
        "    list: Projeção do vetor_a sobre o vetor_b.\n",
        "    \"\"\"\n",
        "\n",
        "    # Calcula o produto escalar de vetor_a e vetor_b\n",
        "    produto_escalar = sum(a * b for a, b in zip(vetor_a, vetor_b))\n",
        "\n",
        "    # Calcula a norma ao quadrado de vetor_b\n",
        "    norma_quadrado_vetor_b = sum(b ** 2 for b in vetor_b)\n",
        "\n",
        "    # Calcula o fator de escala para a projeção\n",
        "    escala = produto_escalar / norma_quadrado_vetor_b\n",
        "\n",
        "    # Calcula a projeção de vetor_a sobre vetor_b\n",
        "    projecao = [escala * b for b in vetor_b]\n",
        "\n",
        "    return projecao\n",
        "\n",
        "# Exemplo de uso da função\n",
        "vetor_a = [3, 4]\n",
        "vetor_b = [1, 0]\n",
        "projecao_vetor_a_sobre_b = projetar_vetor(vetor_a, vetor_b)\n",
        "projecao_vetor_a_sobre_b"
      ],
      "metadata": {
        "colab": {
          "base_uri": "https://localhost:8080/"
        },
        "id": "lfegVo6qU8qS",
        "outputId": "bc6e126f-22ca-4803-a07f-48f758b9369d"
      },
      "execution_count": 57,
      "outputs": [
        {
          "output_type": "execute_result",
          "data": {
            "text/plain": [
              "[3.0, 0.0]"
            ]
          },
          "metadata": {},
          "execution_count": 57
        }
      ]
    }
  ],
  "metadata": {
    "kernelspec": {
      "display_name": "Python 3 (ipykernel)",
      "language": "python",
      "name": "python3"
    },
    "language_info": {
      "codemirror_mode": {
        "name": "ipython",
        "version": 3
      },
      "file_extension": ".py",
      "mimetype": "text/x-python",
      "name": "python",
      "nbconvert_exporter": "python",
      "pygments_lexer": "ipython3",
      "version": "3.13.5"
    },
    "colab": {
      "provenance": []
    }
  },
  "nbformat": 4,
  "nbformat_minor": 0
}